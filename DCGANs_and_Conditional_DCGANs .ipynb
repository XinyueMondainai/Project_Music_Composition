{
  "nbformat": 4,
  "nbformat_minor": 0,
  "metadata": {
    "colab": {
      "name": "DCGANs and Conditional DCGANs.ipynb",
      "version": "0.3.2",
      "provenance": [],
      "collapsed_sections": [
        "ebAcz2Co6Kl-",
        "Rf36o1Wb6O8a",
        "EAfSvheg3eP3",
        "NNXUeOE83iEW",
        "RPyKgBFpm5MP",
        "BswPm1JJVhM9",
        "MM1V0RntKauF",
        "rL1acEv0uint"
      ]
    },
    "kernelspec": {
      "name": "python3",
      "display_name": "Python 3"
    },
    "accelerator": "GPU"
  },
  "cells": [
    {
      "cell_type": "code",
      "metadata": {
        "id": "a87-c2emghvB",
        "colab_type": "code",
        "outputId": "3380e2fe-09cf-4892-fcb6-809ab130f4fb",
        "colab": {
          "base_uri": "https://localhost:8080/",
          "height": 32
        }
      },
      "source": [
        "import glob\n",
        "import os\n",
        "import music21\n",
        "from music21 import *\n",
        "import numpy as np\n",
        "from music21 import converter, instrument, note, chord, duration, stream\n",
        "import tensorflow as tf\n",
        "\n",
        "print (music21.__version__) #if your version is lower than 4.x.x, you will encounter with some issues. "
      ],
      "execution_count": 0,
      "outputs": [
        {
          "output_type": "stream",
          "text": [
            "5.5.0\n"
          ],
          "name": "stdout"
        }
      ]
    },
    {
      "cell_type": "code",
      "metadata": {
        "id": "3a4ie0PdO-qc",
        "colab_type": "code",
        "colab": {}
      },
      "source": [
        "# See figures inside jupyter notebook.\n",
        "%matplotlib inline \n",
        "\n",
        "%config InlineBackend.figure_format = 'retina' # for Mac"
      ],
      "execution_count": 0,
      "outputs": []
    },
    {
      "cell_type": "markdown",
      "metadata": {
        "id": "5WB_WFxG0kWw",
        "colab_type": "text"
      },
      "source": [
        "# Prepossessing"
      ]
    },
    {
      "cell_type": "code",
      "metadata": {
        "id": "qxamMaK4PKsm",
        "colab_type": "code",
        "colab": {}
      },
      "source": [
        "def note_to_int(note): \n",
        "    # converts the note's letter to pitch value which is integer form.\n",
        "    # source: https://musescore.org/en/plugin-development/note-pitch-values\n",
        "    # idea: https://github.com/bspaans/python-mingus/blob/master/mingus/core/notes.py\n",
        "    \n",
        "    note_base_name = ['C', 'C#', 'D', 'D#', 'E', 'F', 'F#', 'G', 'G#', 'A', 'A#', 'B']\n",
        "    if ('#-' in note):\n",
        "        first_letter = note[0]\n",
        "        base_value = note_base_name.index(first_letter)\n",
        "        octave = note[3]\n",
        "        value = base_value + 12*(int(octave)-(-1))\n",
        "        \n",
        "    elif ('#' in note): \n",
        "        first_letter = note[0]\n",
        "        base_value = note_base_name.index(first_letter)\n",
        "        octave = note[2]\n",
        "        value = base_value + 12*(int(octave)-(-1))\n",
        "        \n",
        "    elif ('-' in note): \n",
        "        first_letter = note[0]\n",
        "        base_value = note_base_name.index(first_letter)\n",
        "        octave = note[2]\n",
        "        value = base_value + 12*(int(octave)-(-1))\n",
        "        \n",
        "    else:\n",
        "        first_letter = note[0]\n",
        "        base_val = note_base_name.index(first_letter)\n",
        "        octave = note[1]\n",
        "        value = base_val + 12*(int(octave)-(-1))\n",
        "        \n",
        "    return value"
      ],
      "execution_count": 0,
      "outputs": []
    },
    {
      "cell_type": "code",
      "metadata": {
        "id": "t2yyQHoP9MAt",
        "colab_type": "code",
        "colab": {}
      },
      "source": [
        "# Lets determine our matrix's value \n",
        "# rest --> (min_value, lower_bound)\n",
        "# continuation --> (lower_bound, upper_bound)\n",
        "# first_touch --> (upper_bound, max_value)\n",
        "\n",
        "min_value = 0.00\n",
        "lower_first = 0.00\n",
        "\n",
        "lower_second = 0.5\n",
        "upper_first = 0.5\n",
        "\n",
        "upper_second = 1.0\n",
        "max_value = 1.0\n",
        "\n",
        "def notes_to_matrix(notes, durations, offsets, min_value=min_value, lower_first=lower_first,\n",
        "                    lower_second=lower_second,\n",
        "                    upper_first=upper_first, upper_second=upper_second,\n",
        "                    max_value=max_value):\n",
        "    \n",
        "    # I want to represent my notes in matrix form. X axis will represent time, Y axis will represent pitch values.\n",
        "    # I should normalize my matrix between 0 and 1.\n",
        "    # So that I will represent rest with (min_value, lower_first), continuation with [lower_second, upper_first]\n",
        "    # and first touch with (upper_second, max_value)\n",
        "    # First touch means that you press the note and it cause to 1 time duration playing. Continuation\n",
        "    # represent the continuum of this note playing. \n",
        "    \n",
        "    try:\n",
        "        last_offset = int(offsets[-1]) \n",
        "    except IndexError:\n",
        "        print ('Index Error')\n",
        "        return (None, None, None)\n",
        "    \n",
        "    total_offset_axis = last_offset * 4 + (8 * 4) \n",
        "    our_matrix = np.random.uniform(min_value, lower_first, (128, int(total_offset_axis))) \n",
        "    # creates matrix and fills with (-1, -0.3), this values will represent the rest.\n",
        "    \n",
        "    for (note, duration, offset) in zip(notes, durations, offsets):\n",
        "        how_many = int(float(duration)/0.25) # indicates time duration for single note.\n",
        "       \n",
        "        \n",
        "        # Define difference between single and double note.\n",
        "        # I have choose the value for first touch, the another value for continuation.\n",
        "        # Lets make it randomize\n",
        "        \n",
        "        # I choose to use uniform distrubition. Maybe, you can use another distrubition like Gaussian.\n",
        "        # I will try \n",
        "        first_touch = np.random.uniform(upper_second, max_value, 1)\n",
        "        continuation = np.random.uniform(lower_second, upper_first, 1)\n",
        "        \n",
        "        if ('.' not in str(note)): # It is not chord. Single note.\n",
        "            our_matrix[note, int(offset * 4)] = first_touch\n",
        "            our_matrix[note, int((offset * 4) + 1) : int((offset * 4) + how_many)] = continuation\n",
        "\n",
        "        else: # For chord\n",
        "            chord_notes_str = [note for note in note.split('.')] \n",
        "            chord_notes_float = list(map(int, chord_notes_str)) # Take notes in chord one by one\n",
        "\n",
        "            for chord_note_float in chord_notes_float:\n",
        "                our_matrix[chord_note_float, int(offset * 4)] = first_touch\n",
        "                our_matrix[chord_note_float, int((offset * 4) + 1) : int((offset * 4) + how_many)] = continuation\n",
        "                \n",
        "    return our_matrix\n",
        "\n",
        "def check_float(duration): # This function fix the issue which comes from some note's duration. \n",
        "                           # For instance some note has duration like 14/3 or 7/3. \n",
        "    if ('/' in duration):\n",
        "        numerator = float(duration.split('/')[0])\n",
        "        denominator = float(duration.split('/')[1])\n",
        "        duration = str(float(numerator/denominator))\n",
        "    return duration"
      ],
      "execution_count": 0,
      "outputs": []
    },
    {
      "cell_type": "code",
      "metadata": {
        "id": "g62IEQAqPOcp",
        "colab_type": "code",
        "colab": {}
      },
      "source": [
        "#midi = music21.converter.parse('/content/drive/My Drive/musicBach/f04.mid')\n",
        "#notes_to_parse = None\n",
        "#parts = music21.instrument.partitionByInstrument(midi)\n",
        "#print(parts)\n",
        "#notes_to_parse = parts.parts[0].recurse()\n",
        "#print(notes_to_parse)\n",
        "#notes_to_parse = parts.parts[0].recurse()\n",
        "#midi.notes.recurse()\n",
        "\n",
        "def midi_to_matrix(filename): # convert midi file to matrix for DL architecture.\n",
        "  \n",
        "    midi = music21.converter.parse(filename)\n",
        "    notes_to_parse = None\n",
        "    parts = music21.instrument.partitionByInstrument(midi)\n",
        "    notes_to_parse = parts.parts[0].recurse()\n",
        "    #notes_to_parse = midi.recurse()\n",
        "    #print(notes_to_parse)\n",
        "\n",
        "\n",
        "    durations = []\n",
        "    notes = []\n",
        "    offsets = []\n",
        "    a = 0.25\n",
        "    for element in notes_to_parse:\n",
        "        if isinstance(element, note.Note): # if it is single note\n",
        "            notes.append(note_to_int(str(element.pitch)))\n",
        "            duration = str(element.duration)[27:-1]\n",
        "            durations.append(check_float(duration))\n",
        "            offsets.append(element.offset)\n",
        "\n",
        "        elif isinstance(element, chord.Chord): # if it is chord\n",
        "            notes.append('.'.join(str(note_to_int(str(n)))\n",
        "                                  for n in element.pitches))\n",
        "            duration = str(element.duration)[27:-1]\n",
        "            durations.append(check_float(duration))\n",
        "            offsets.append(element.offset)\n",
        "    \n",
        "    #print(notes)\n",
        "    our_matrix = notes_to_matrix(notes, durations, offsets)\n",
        "    \n",
        "\n",
        "    return our_matrix"
      ],
      "execution_count": 0,
      "outputs": []
    },
    {
      "cell_type": "code",
      "metadata": {
        "id": "QGE5-ahaPXs8",
        "colab_type": "code",
        "colab": {}
      },
      "source": [
        "# Load the Drive helper and mount\n",
        "from google.colab import drive\n",
        "\n",
        "# This will prompt for authorization.\n",
        "drive.mount('/content/drive')\n",
        "glob.glob(\"/content/drive/My Drive/musicBach/new/*.mid\")"
      ],
      "execution_count": 0,
      "outputs": []
    },
    {
      "cell_type": "code",
      "metadata": {
        "id": "LLHLaKafYaR2",
        "colab_type": "code",
        "colab": {}
      },
      "source": [
        "a = 48\n",
        "data=[]\n",
        "b = 1\n",
        "\n",
        "for i, file in enumerate(glob.glob(\"/content/drive/My Drive/musicBach/new/*.mid\")):\n",
        "      print(i,file)\n",
        "      data_temp = midi_to_matrix(file)\n",
        "      b += 1\n",
        "      for j in range(int(np.floor(data_temp[0,:].shape[0]-a))):\n",
        "          if not j%8:          \n",
        "            #if np.sum(data_temp[:,j:(j+a)]==0.5)-np.sum(data_temp[:,j:(j+a)]==1) <=30:\n",
        "             # if np.sum(data_temp[:,j:(j+a)]==1)>=20:\n",
        "                 data.append(data_temp[:,j:(j+a)])"
      ],
      "execution_count": 0,
      "outputs": []
    },
    {
      "cell_type": "code",
      "metadata": {
        "id": "amnEttkGU5Zs",
        "colab_type": "code",
        "outputId": "ce11347e-162f-4df2-dc76-65d7b3dfdfe3",
        "colab": {
          "base_uri": "https://localhost:8080/",
          "height": 32
        }
      },
      "source": [
        "midis_array = np.asarray(data)\n",
        "    \n",
        "midis_array = np.transpose(midis_array, (0, 2, 1)) \n",
        "midis_array = np.asarray(midis_array)\n",
        "midis_array.shape  "
      ],
      "execution_count": 0,
      "outputs": [
        {
          "output_type": "execute_result",
          "data": {
            "text/plain": [
              "(5417, 48, 128)"
            ]
          },
          "metadata": {
            "tags": []
          },
          "execution_count": 942
        }
      ]
    },
    {
      "cell_type": "code",
      "metadata": {
        "id": "DSo2IksmuOUU",
        "colab_type": "code",
        "colab": {}
      },
      "source": [
        "keep_prob = 0.99"
      ],
      "execution_count": 0,
      "outputs": []
    },
    {
      "cell_type": "code",
      "metadata": {
        "id": "vdQG-RqXcU5a",
        "colab_type": "code",
        "colab": {}
      },
      "source": [
        "def lrelu(x, leak=0.3, name=\"lrelu\"):\n",
        "    with tf.variable_scope(name):\n",
        "        f1 = 0.5 * (1 + leak)\n",
        "        f2 = 0.5 * (1 - leak)\n",
        "        return f1 * x + f2 * abs(x)"
      ],
      "execution_count": 0,
      "outputs": []
    },
    {
      "cell_type": "markdown",
      "metadata": {
        "id": "Rf36o1Wb6O8a",
        "colab_type": "text"
      },
      "source": [
        "#DCGANs"
      ]
    },
    {
      "cell_type": "code",
      "metadata": {
        "id": "4Tj_gFlt0tHC",
        "colab_type": "code",
        "colab": {}
      },
      "source": [
        "def discriminator(img_in, reuse=None, keep_prob=keep_prob):\n",
        "    with tf.variable_scope(\"discriminator\", reuse=reuse):\n",
        "        x = tf.reshape(img_in, shape=[-1, 48, 128, 1])\n",
        "        x = tf.layers.conv2d(x, kernel_size=(8,5), filters=64, strides=1, padding='same', activation=tf.nn.leaky_relu)\n",
        "        x = tf.layers.dropout(x, keep_prob)\n",
        "        x = tf.layers.conv2d(x, kernel_size=(5,32), filters=64, strides=1, padding='same', activation=tf.nn.leaky_relu)\n",
        "        x = tf.layers.dropout(x, keep_prob)\n",
        "        #x = tf.layers.conv2d(x, kernel_size=5, filters=64, strides=1, padding='same', activation=tf.nn.leaky_relu)\n",
        "        #x = tf.layers.dropout(x, keep_prob)\n",
        "        x = tf.contrib.layers.flatten(x)\n",
        "        x = tf.layers.dense(x, units=256, activation=tf.nn.leaky_relu)\n",
        "        x = tf.layers.dense(x, units=32, activation=tf.nn.leaky_relu)\n",
        "        x = tf.layers.dense(x, units=1, activation=tf.nn.sigmoid)\n",
        "        return x"
      ],
      "execution_count": 0,
      "outputs": []
    },
    {
      "cell_type": "code",
      "metadata": {
        "id": "N1mfNX6B17hu",
        "colab_type": "code",
        "colab": {}
      },
      "source": [
        "tf.reset_default_graph()\n",
        "X_in = tf.placeholder(dtype=tf.float32, shape=[None, 48, 128, 1], name='X')\n",
        "noise = tf.placeholder(dtype=tf.float32, shape=[None, 100])\n",
        "\n",
        "keep_prob = tf.placeholder(dtype=tf.float32, name='keep_prob')\n",
        "is_training = tf.placeholder(dtype=tf.bool, name='is_training')\n",
        "\n",
        "def generator(z, keep_prob=keep_prob, is_training=is_training):\n",
        "    momentum = 0.99\n",
        "    with tf.variable_scope(\"generator\", reuse=None):\n",
        "        x = z\n",
        "        x = tf.layers.dense(x, units= 32, activation= tf.nn.leaky_relu)\n",
        "        #x = tf.layers.dropout(x, keep_prob)\n",
        "        x = tf.contrib.layers.batch_norm(x, is_training=is_training, decay=momentum)\n",
        "        x = tf.reshape(x, shape=[-1, 4, 8, 1])\n",
        "        x = tf.image.resize_images(x, size=[12,32])\n",
        "        x = tf.layers.conv2d_transpose(x, kernel_size=(8,3), filters=64, strides=2, padding='same', activation= tf.nn.leaky_relu)\n",
        "        #x = tf.layers.dropout(x, keep_prob)\n",
        "        x = tf.contrib.layers.batch_norm(x, is_training=is_training, decay=momentum)\n",
        "        x = tf.layers.conv2d_transpose(x, kernel_size=(4,12), filters=64, strides=2, padding='same', activation= tf.nn.leaky_relu)\n",
        "        #x = tf.layers.dropout(x, keep_prob)\n",
        "        x = tf.contrib.layers.batch_norm(x, is_training=is_training, decay=momentum)\n",
        "        x = tf.layers.conv2d_transpose(x, kernel_size=(8,4), filters=64, strides=1, padding='same', activation= tf.nn.leaky_relu)\n",
        "        #x = tf.layers.dropout(x, keep_prob)\n",
        "        x = tf.contrib.layers.batch_norm(x, is_training=is_training, decay=momentum)\n",
        "        x = tf.layers.conv2d_transpose(x, kernel_size=(4,12), filters=1, strides=1, padding='same', activation=tf.nn.sigmoid)\n",
        "        return x    "
      ],
      "execution_count": 0,
      "outputs": []
    },
    {
      "cell_type": "code",
      "metadata": {
        "id": "mk9eeOSa_0Ni",
        "colab_type": "code",
        "colab": {}
      },
      "source": [
        "\n",
        "def binary_cross_entropy(x, z):\n",
        "    eps = 1e-12\n",
        "    return (-(x * tf.log(z + eps) + (1. - x) * tf.log(1. - z + eps)))"
      ],
      "execution_count": 0,
      "outputs": []
    },
    {
      "cell_type": "code",
      "metadata": {
        "id": "BJ15sY6l4pZG",
        "colab_type": "code",
        "colab": {}
      },
      "source": [
        "# If wasserstein distance was applied, we use the following wasserstein loss function and clipping.\n",
        "# If not, we just use the loss function.\n",
        "\n",
        "\n",
        "g = generator(noise, keep_prob, is_training)\n",
        "d_real = discriminator(X_in)\n",
        "d_fake = discriminator(g, reuse=True)\n",
        "\n",
        "vars_g = [var for var in tf.trainable_variables() if var.name.startswith(\"generator\")]\n",
        "vars_d = [var for var in tf.trainable_variables() if var.name.startswith(\"discriminator\")]\n",
        "\n",
        "\n",
        "d_reg = tf.contrib.layers.apply_regularization(tf.contrib.layers.l2_regularizer(0.01), vars_d)\n",
        "g_reg = tf.contrib.layers.apply_regularization(tf.contrib.layers.l2_regularizer(0.01), vars_g)\n",
        "\"\"\"\n",
        "loss_d_real = binary_cross_entropy(tf.ones_like(d_real), d_real)\n",
        "loss_d_fake = binary_cross_entropy(tf.zeros_like(d_fake), d_fake)\n",
        "\n",
        "loss_g = tf.reduce_mean(binary_cross_entropy(tf.ones_like(d_fake), d_fake))\n",
        "loss_d = tf.reduce_mean(0.5 * (loss_d_real + loss_d_fake))\n",
        "\n",
        "\n",
        "\n",
        "d_loss_real = - tf.reduce_mean(d_real)\n",
        "d_loss_fake = tf.reduce_mean(d_fake)\n",
        "\n",
        "loss_d = d_loss_real + d_loss_fake\n",
        "loss_g = - d_loss_fake\n",
        "\"\"\"\n",
        "\n",
        "loss_d = tf.contrib.gan.losses.wargs.wasserstein_discriminator_loss(d_real, d_fake)\n",
        "loss_g = tf.contrib.gan.losses.wargs.wasserstein_generator_loss(d_fake)\n",
        "\n",
        "\n",
        "\n",
        "update_ops = tf.get_collection(tf.GraphKeys.UPDATE_OPS)\n",
        "with tf.control_dependencies(update_ops):\n",
        "    optimizer_d = tf.train.RMSPropOptimizer(learning_rate=0.00015).minimize(loss_d + d_reg, var_list=vars_d)\n",
        "    optimizer_g = tf.train.RMSPropOptimizer(learning_rate=0.00015).minimize(loss_g + g_reg, var_list=vars_g)\n",
        "    \n",
        "# weight clipping\n",
        "vars_d = [p.assign(tf.clip_by_value(p, -0.05, 0.05)) for p in vars_d]    \n",
        "saver = tf.train.Saver()       \n",
        "sess = tf.Session()\n",
        "sess.run(tf.global_variables_initializer())"
      ],
      "execution_count": 0,
      "outputs": []
    },
    {
      "cell_type": "code",
      "metadata": {
        "id": "q0_qYVZyBSu-",
        "colab_type": "code",
        "colab": {}
      },
      "source": [
        "n_noise =100\n",
        "batch_size = 20\n",
        "midis_array = tf.reshape(midis_array, shape=[-1, 48, 128, 1])\n",
        "midis_array = tf.Session().run(midis_array)"
      ],
      "execution_count": 0,
      "outputs": []
    },
    {
      "cell_type": "code",
      "metadata": {
        "id": "Zb4NNph9DStu",
        "colab_type": "code",
        "colab": {}
      },
      "source": [
        "def batch_input(x,n):\n",
        "  # x = [None, 32, 128, 1]\n",
        "  z = x\n",
        "  np.random.shuffle(z)\n",
        "  return z[0:n,:,:,:]\n",
        "\n",
        "import random\n",
        "import matplotlib.pyplot as plt\n",
        "\n",
        "batch = batch_input(midis_array, batch_size)\n",
        "batch.shape\n",
        "\n",
        "batch_size = 100\n",
        "b = 1\n"
      ],
      "execution_count": 0,
      "outputs": []
    },
    {
      "cell_type": "code",
      "metadata": {
        "id": "zFfjPyZVTQDB",
        "colab_type": "code",
        "colab": {}
      },
      "source": [
        "saver.restore(sess, '/content/drive/My Drive/Music/Weight/04/train_model_DCGANs_08.ckpt')"
      ],
      "execution_count": 0,
      "outputs": []
    },
    {
      "cell_type": "code",
      "metadata": {
        "id": "MfuvsXpDSI_G",
        "colab_type": "code",
        "outputId": "92ac0bf2-a45d-4c02-f78d-06e73390b61a",
        "colab": {
          "base_uri": "https://localhost:8080/",
          "height": 32
        }
      },
      "source": [
        "saver.save(sess, '/content/drive/My Drive/Music/Weight/04/train_model_DCGANs_08.ckpt')"
      ],
      "execution_count": 0,
      "outputs": [
        {
          "output_type": "execute_result",
          "data": {
            "text/plain": [
              "'/content/drive/My Drive/Music/Weight/04/train_model_DCGANs_08.ckpt'"
            ]
          },
          "metadata": {
            "tags": []
          },
          "execution_count": 233
        }
      ]
    },
    {
      "cell_type": "code",
      "metadata": {
        "id": "dAX7n8574sZ0",
        "colab_type": "code",
        "outputId": "f841bcb1-6fe0-4770-bfc8-df2b39e4e25b",
        "colab": {
          "base_uri": "https://localhost:8080/",
          "height": 1000
        }
      },
      "source": [
        "b = b+1\n",
        "random.seed(b)\n",
        "sample = []\n",
        "for i in range(5):\n",
        "    train_d = True\n",
        "    train_g = True\n",
        "    keep_prob_train = 1 # 0.5\n",
        "    \n",
        "    \n",
        "    n = np.random.uniform(0.0, 1.0, [batch_size, n_noise]).astype(np.float32)\n",
        "    batch = batch_input(midis_array ,batch_size)\n",
        "    \n",
        "    g_ls, d_ls = sess.run([loss_g, loss_d], feed_dict={X_in: batch, noise: n, keep_prob: keep_prob_train, is_training:True})\n",
        "    \n",
        "    g_ls = g_ls\n",
        "    d_ls = d_ls\n",
        "    \n",
        "    if g_ls * 1.5 < d_ls:\n",
        "      \n",
        "        train_g = False\n",
        "        pass\n",
        "    if d_ls * 2 < g_ls:\n",
        "        train_d = False\n",
        "        pass\n",
        "    \n",
        "   # if train_d:\n",
        "    for j in range(1): \n",
        "        sess.run(optimizer_d, feed_dict={noise: n, X_in: batch, keep_prob: keep_prob_train, is_training:True})\n",
        "        \n",
        "        \n",
        "    #if train_g:\n",
        "    for j in range(5): \n",
        "      \n",
        "        sess.run(optimizer_g, feed_dict={noise: n, keep_prob: keep_prob_train, is_training:True})\n",
        "        \n",
        "        \n",
        "    if not i % 1:\n",
        "        print (i, d_ls, g_ls)\n",
        "        if not train_g:\n",
        "            print(\"not training generator\")\n",
        "        if not train_d:\n",
        "            print(\"not training discriminator\")\n",
        "        gen_img = sess.run(g, feed_dict = {noise: n, keep_prob: 1.0, is_training:False})\n",
        "        print(np.sum(gen_img[1,:,:,:]))\n",
        "        implot = plt.imshow(gen_img[1,:,:,0], cmap=\"gray\")\n",
        "        plt.show()\n",
        "        #sample = sample.append(gen_img[1,:,:,:])"
      ],
      "execution_count": 0,
      "outputs": [
        {
          "output_type": "stream",
          "text": [
            "0 -0.3942425 -0.39542457\n",
            "not training generator\n",
            "not training discriminator\n",
            "66.70788\n"
          ],
          "name": "stdout"
        },
        {
          "output_type": "display_data",
          "data": {
            "image/png": "[encoded data removed]",
            "text/plain": [
              "<Figure size 432x288 with 1 Axes>"
            ]
          },
          "metadata": {
            "tags": [],
            "image/png": {
              "width": 370,
              "height": 158
            }
          }
        },
        {
          "output_type": "stream",
          "text": [
            "1 -0.42254093 -0.069528915\n",
            "not training discriminator\n",
            "75.51848\n"
          ],
          "name": "stdout"
        },
        {
          "output_type": "display_data",
          "data": {
            "image/png": "[encoded data removed]",
            "text/plain": [
              "<Figure size 432x288 with 1 Axes>"
            ]
          },
          "metadata": {
            "tags": [],
            "image/png": {
              "width": 370,
              "height": 158
            }
          }
        },
        {
          "output_type": "stream",
          "text": [
            "2 -0.13894159 -0.81150657\n",
            "not training generator\n",
            "64.94885\n"
          ],
          "name": "stdout"
        },
        {
          "output_type": "display_data",
          "data": {
            "image/png": "[encoded data removed]",
            "text/plain": [
              "<Figure size 432x288 with 1 Axes>"
            ]
          },
          "metadata": {
            "tags": [],
            "image/png": {
              "width": 370,
              "height": 158
            }
          }
        },
        {
          "output_type": "stream",
          "text": [
            "3 -0.48283765 -0.3032222\n",
            "not training discriminator\n",
            "69.05991\n"
          ],
          "name": "stdout"
        },
        {
          "output_type": "display_data",
          "data": {
            "image/png": "[encoded data removed]",
            "text/plain": [
              "<Figure size 432x288 with 1 Axes>"
            ]
          },
          "metadata": {
            "tags": [],
            "image/png": {
              "width": 370,
              "height": 158
            }
          }
        },
        {
          "output_type": "stream",
          "text": [
            "4 -0.49236766 -0.08279439\n",
            "not training discriminator\n",
            "85.71039\n"
          ],
          "name": "stdout"
        },
        {
          "output_type": "display_data",
          "data": {
            "image/png": "[encoded data removed]",
            "text/plain": [
              "<Figure size 432x288 with 1 Axes>"
            ]
          },
          "metadata": {
            "tags": [],
            "image/png": {
              "width": 370,
              "height": 158
            }
          }
        }
      ]
    },
    {
      "cell_type": "code",
      "metadata": {
        "id": "t0uehTonNpj0",
        "colab_type": "code",
        "outputId": "49559976-21d0-44cb-a672-490a400c4d0c",
        "colab": {
          "base_uri": "https://localhost:8080/",
          "height": 32
        }
      },
      "source": [
        "gen_img.shape"
      ],
      "execution_count": 0,
      "outputs": [
        {
          "output_type": "execute_result",
          "data": {
            "text/plain": [
              "(100, 48, 128, 1)"
            ]
          },
          "metadata": {
            "tags": []
          },
          "execution_count": 267
        }
      ]
    },
    {
      "cell_type": "code",
      "metadata": {
        "id": "glUnL_M5_4vg",
        "colab_type": "code",
        "colab": {}
      },
      "source": [
        "Data5 = []\n",
        "for i in range(5):\n",
        "  n = np.random.uniform(0.0, 1.0, [batch_size, n_noise]).astype(np.float32)\n",
        "  gen_img = sess.run(g, feed_dict = {noise: n, keep_prob: 1.0, is_training:False})\n",
        "  Data5.append(gen_img)\n"
      ],
      "execution_count": 0,
      "outputs": []
    },
    {
      "cell_type": "code",
      "metadata": {
        "id": "asOBCyHb6r4A",
        "colab_type": "code",
        "colab": {}
      },
      "source": [
        "j = 1"
      ],
      "execution_count": 0,
      "outputs": []
    },
    {
      "cell_type": "code",
      "metadata": {
        "id": "X3acLSanHfVB",
        "colab_type": "code",
        "outputId": "e8388b98-a4fc-4f9d-c0bd-4ec7673f42cf",
        "colab": {
          "base_uri": "https://localhost:8080/",
          "height": 190
        }
      },
      "source": [
        "j +=1\n",
        "print(np.sum(gen_img[4,:,:,:]))\n",
        "implot = plt.imshow(gen_img[j,:,:,0], cmap=\"gray\")\n",
        "a = gen_img[j,:,:,0]\n",
        "plt.show()"
      ],
      "execution_count": 0,
      "outputs": [
        {
          "output_type": "stream",
          "text": [
            "92.91754\n"
          ],
          "name": "stdout"
        },
        {
          "output_type": "display_data",
          "data": {
            "image/png": "[encoded data removed]",
            "text/plain": [
              "<Figure size 432x288 with 1 Axes>"
            ]
          },
          "metadata": {
            "tags": [],
            "image/png": {
              "width": 370,
              "height": 158
            }
          }
        }
      ]
    },
    {
      "cell_type": "code",
      "metadata": {
        "id": "CXqJN4Lm80QJ",
        "colab_type": "code",
        "outputId": "ffd90a68-9ad0-4bee-9f88-f9e83dd80e96",
        "colab": {
          "base_uri": "https://localhost:8080/",
          "height": 241
        }
      },
      "source": [
        "f, axarr = plt.subplots(2,2)\n",
        "axarr[0,0].imshow(a, cmap=\"gray\")\n",
        "axarr[0,1].imshow(a1, cmap=\"gray\")\n",
        "axarr[1,0].imshow(a2, cmap=\"gray\")\n",
        "axarr[1,1].imshow(a3, cmap=\"gray\")\n",
        "\n"
      ],
      "execution_count": 0,
      "outputs": [
        {
          "output_type": "execute_result",
          "data": {
            "text/plain": [
              "<matplotlib.image.AxesImage at 0x7f9a6a1fd3c8>"
            ]
          },
          "metadata": {
            "tags": []
          },
          "execution_count": 1024
        },
        {
          "output_type": "display_data",
          "data": {
            "image/png": "[encoded data removed]",
            "text/plain": [
              "<Figure size 432x288 with 4 Axes>"
            ]
          },
          "metadata": {
            "tags": [],
            "image/png": {
              "width": 370,
              "height": 209
            }
          }
        }
      ]
    },
    {
      "cell_type": "code",
      "metadata": {
        "id": "a-edxQUrb_id",
        "colab_type": "code",
        "colab": {}
      },
      "source": [
        "import matplotlib.pyplot as plt"
      ],
      "execution_count": 0,
      "outputs": []
    },
    {
      "cell_type": "code",
      "metadata": {
        "id": "HM0JK-UHKMiv",
        "colab_type": "code",
        "colab": {}
      },
      "source": [
        "j = 1"
      ],
      "execution_count": 0,
      "outputs": []
    },
    {
      "cell_type": "code",
      "metadata": {
        "id": "Pq3Zze0GcPmx",
        "colab_type": "code",
        "outputId": "531317aa-eee4-4cc2-aee3-bd6ea82bd557",
        "colab": {
          "base_uri": "https://localhost:8080/",
          "height": 174
        }
      },
      "source": [
        "j = j+1\n",
        "implot = plt.imshow(gen_img[j,:,:,0], cmap=\"gray\")\n",
        "plt.show()"
      ],
      "execution_count": 0,
      "outputs": [
        {
          "output_type": "display_data",
          "data": {
            "image/png": "[encoded data removed]",
            "text/plain": [
              "<Figure size 432x288 with 1 Axes>"
            ]
          },
          "metadata": {
            "tags": [],
            "image/png": {
              "width": 370,
              "height": 158
            }
          }
        }
      ]
    },
    {
      "cell_type": "code",
      "metadata": {
        "id": "-fOex4L2cl2z",
        "colab_type": "code",
        "colab": {}
      },
      "source": [
        "result = np.round(gen_img[55,:,:,0]*2)/2"
      ],
      "execution_count": 0,
      "outputs": []
    },
    {
      "cell_type": "code",
      "metadata": {
        "id": "N0jtRTCxXCCV",
        "colab_type": "code",
        "outputId": "b0548f28-b081-4a1f-9d39-93f08759386a",
        "colab": {
          "base_uri": "https://localhost:8080/",
          "height": 134
        }
      },
      "source": [
        "implot = plt.imshow(batch[5,:,:,0], cmap=\"gray\")\n",
        "plt.show()"
      ],
      "execution_count": 0,
      "outputs": [
        {
          "output_type": "display_data",
          "data": {
            "image/png": "[encoded data removed]",
            "text/plain": [
              "<Figure size 432x288 with 1 Axes>"
            ]
          },
          "metadata": {
            "tags": [],
            "image/png": {
              "width": 370,
              "height": 117
            }
          }
        }
      ]
    },
    {
      "cell_type": "code",
      "metadata": {
        "id": "s1RBXheBl279",
        "colab_type": "code",
        "outputId": "1be7c1fd-f05b-4812-f7a7-4019b0791239",
        "colab": {
          "base_uri": "https://localhost:8080/",
          "height": 174
        }
      },
      "source": [
        "j+=1\n",
        "implot = plt.imshow(batch[j,:,:,0], cmap=\"gray\")\n",
        "plt.show()"
      ],
      "execution_count": 0,
      "outputs": [
        {
          "output_type": "display_data",
          "data": {
            "image/png": "[encoded data removed]",
            "text/plain": [
              "<Figure size 432x288 with 1 Axes>"
            ]
          },
          "metadata": {
            "tags": [],
            "image/png": {
              "width": 370,
              "height": 158
            }
          }
        }
      ]
    },
    {
      "cell_type": "code",
      "metadata": {
        "id": "cs5LNMCa-huS",
        "colab_type": "code",
        "colab": {}
      },
      "source": [
        "output_notes"
      ],
      "execution_count": 0,
      "outputs": []
    },
    {
      "cell_type": "code",
      "metadata": {
        "id": "fCWq3dVrxyp6",
        "colab_type": "code",
        "outputId": "69a07bcc-09fb-4008-9de1-a0fc50cb4163",
        "colab": {
          "base_uri": "https://localhost:8080/",
          "height": 87
        }
      },
      "source": [
        "filename_midi = \"test21.mid\"\n",
        "output_notes = matrix_to_midi(result)\n",
        "midi_stream = stream.Stream(output_notes)\n",
        "output_filename = \"/content/drive/My Drive/Music/midi_outputs/\" + \"test_output_\" + filename_midi\n",
        "midi_stream.write('midi', fp=output_filename)"
      ],
      "execution_count": 0,
      "outputs": [
        {
          "output_type": "stream",
          "text": [
            "How many rows for non-start note at beginning: 40\n",
            "How many rows for non-start note at end: 48\n",
            "32 88\n"
          ],
          "name": "stdout"
        },
        {
          "output_type": "execute_result",
          "data": {
            "text/plain": [
              "'/content/drive/My Drive/Music/midi_outputs/test_output_test21.mid'"
            ]
          },
          "metadata": {
            "tags": []
          },
          "execution_count": 51
        }
      ]
    },
    {
      "cell_type": "code",
      "metadata": {
        "id": "uqfRxaPYAvbt",
        "colab_type": "code",
        "colab": {}
      },
      "source": [
        "pip install midiutil\n"
      ],
      "execution_count": 0,
      "outputs": []
    },
    {
      "cell_type": "markdown",
      "metadata": {
        "id": "RPyKgBFpm5MP",
        "colab_type": "text"
      },
      "source": [
        "# Conditional DCGANs"
      ]
    },
    {
      "cell_type": "code",
      "metadata": {
        "id": "E1g_HmAav9P2",
        "colab_type": "code",
        "colab": {}
      },
      "source": [
        "def binary_cross_entropy(x, z):\n",
        "    eps = 1e-12\n",
        "    return (-(x * tf.log(z + eps) + (1. - x) * tf.log(1. - z + eps)))\n",
        "\n",
        "def discriminator(img_in, reuse=None, keep_prob=None):\n",
        "    with tf.variable_scope(\"discriminator\", reuse=reuse):\n",
        "        x = tf.reshape(img_in, shape=[-1, 36, 128, 1])\n",
        "        x = tf.layers.conv2d(x, kernel_size=(8,5), filters=64, strides=1, padding='same', activation=tf.nn.leaky_relu)\n",
        "        #x = tf.layers.dropout(x, keep_prob)\n",
        "        x = tf.layers.conv2d(x, kernel_size=(5,32), filters=64, strides=1, padding='same', activation=tf.nn.leaky_relu)\n",
        "        #x = tf.layers.dropout(x, keep_prob)\n",
        "        #x = tf.layers.conv2d(x, kernel_size=5, filters=64, strides=1, padding='same', activation=tf.nn.leaky_relu)\n",
        "        #x = tf.layers.dropout(x, keep_prob)\n",
        "        x = tf.contrib.layers.flatten(x)\n",
        "        x = tf.layers.dense(x, units=256, activation=tf.nn.leaky_relu)\n",
        "        x = tf.layers.dense(x, units=32, activation=tf.nn.leaky_relu)\n",
        "        x = tf.layers.dense(x, units=1, activation=tf.nn.sigmoid)\n",
        "        return x"
      ],
      "execution_count": 0,
      "outputs": []
    },
    {
      "cell_type": "code",
      "metadata": {
        "id": "HeQrjEepm4kT",
        "colab_type": "code",
        "colab": {}
      },
      "source": [
        "tf.reset_default_graph()\n",
        "X_in = tf.placeholder(dtype=tf.float32, shape=[None, 36, 128, 1], name='X')\n",
        "noise = tf.placeholder(dtype=tf.float32, shape=[None, 100])\n",
        "label = tf.placeholder(dtype=tf.float32, shape=[None, 24, 128, 1])\n",
        "\n",
        "keep_prob = tf.placeholder(dtype=tf.float32, name='keep_prob')\n",
        "is_training = tf.placeholder(dtype=tf.bool, name='is_training')\n",
        "\n",
        "\n",
        "def generator(z, y, keep_prob=keep_prob, is_training=is_training):\n",
        "    momentum = 0.99\n",
        "    with tf.variable_scope(\"generator\", reuse=None):\n",
        "        x = z\n",
        "        label = tf.layers.conv2d(y, kernel_size=(8,5), filters=32, strides=1, padding='same', activation=tf.nn.leaky_relu)\n",
        "        label = tf.layers.conv2d(label, kernel_size=(5,16), filters=32, strides=1, padding='same', activation=tf.nn.leaky_relu)\n",
        "        label = tf.contrib.layers.flatten(label)\n",
        "        label = tf.layers.dense(label, units=256, activation=tf.nn.leaky_relu)\n",
        "        label = tf.layers.dense(label, units=32, activation=tf.nn.leaky_relu)\n",
        "        # label is the conditional part should be 24 and x should be 8\n",
        "        x = tf.concat([x, label],1)\n",
        "        x = tf.layers.dense(x, units= 32, activation= tf.nn.leaky_relu)\n",
        "        #x = tf.layers.dropout(x, keep_prob)\n",
        "        x = tf.contrib.layers.batch_norm(x, is_training=is_training, decay=momentum)\n",
        "        x = tf.reshape(x, shape=[-1, 2, 16, 1])\n",
        "        x = tf.image.resize_images(x, size=[3,32])\n",
        "        x = tf.layers.conv2d_transpose(x, kernel_size=(8,3), filters=64, strides=2, padding='same', activation= tf.nn.leaky_relu)\n",
        "        #x = tf.layers.dropout(x, keep_prob)\n",
        "        x = tf.contrib.layers.batch_norm(x, is_training=is_training, decay=momentum)\n",
        "        x = tf.layers.conv2d_transpose(x, kernel_size=(4,12), filters=64, strides=2, padding='same', activation= tf.nn.leaky_relu)\n",
        "        #x = tf.layers.dropout(x, keep_prob)\n",
        "        x = tf.contrib.layers.batch_norm(x, is_training=is_training, decay=momentum)\n",
        "        x = tf.layers.conv2d_transpose(x, kernel_size=(8,4), filters=64, strides=1, padding='same', activation= tf.nn.leaky_relu)\n",
        "        #x = tf.layers.dropout(x, keep_prob)\n",
        "        x = tf.contrib.layers.batch_norm(x, is_training=is_training, decay=momentum)\n",
        "        x = tf.layers.conv2d_transpose(x, kernel_size=(4,12), filters=1, strides=1, padding='same', activation=tf.nn.sigmoid)\n",
        "        \n",
        "        return  tf.concat([y,x],1)"
      ],
      "execution_count": 0,
      "outputs": []
    },
    {
      "cell_type": "code",
      "metadata": {
        "id": "hv3qJlrDxmyX",
        "colab_type": "code",
        "colab": {}
      },
      "source": [
        "g = generator(noise, label, keep_prob, is_training)\n",
        "d_real = discriminator(X_in)\n",
        "d_fake = discriminator(g, reuse=True)\n",
        "\n",
        "vars_g = [var for var in tf.trainable_variables() if var.name.startswith(\"generator\")]\n",
        "vars_d = [var for var in tf.trainable_variables() if var.name.startswith(\"discriminator\")]\n",
        "\n",
        "\n",
        "d_reg = tf.contrib.layers.apply_regularization(tf.contrib.layers.l2_regularizer(0.01), vars_d)\n",
        "g_reg = tf.contrib.layers.apply_regularization(tf.contrib.layers.l2_regularizer(0.01), vars_g)\n",
        "\n",
        "loss_d_real = binary_cross_entropy(tf.ones_like(d_real), d_real)\n",
        "loss_d_fake = binary_cross_entropy(tf.zeros_like(d_fake), d_fake)\n",
        "\n",
        "loss_g = tf.reduce_mean(binary_cross_entropy(tf.ones_like(d_fake), d_fake))\n",
        "loss_d = tf.reduce_mean(0.5 * (loss_d_real + loss_d_fake))\n",
        "\n",
        "\"\"\"\n",
        "\n",
        "loss_d = tf.contrib.gan.losses.wargs.wasserstein_discriminator_loss(d_real, d_fake)\n",
        "loss_g = tf.contrib.gan.losses.wargs.wasserstein_generator_loss(d_fake)\n",
        "\n",
        "d_loss_real = - tf.reduce_mean(d_real)\n",
        "d_loss_fake = tf.reduce_mean(d_fake)\n",
        "\n",
        "loss_d = d_loss_real + d_loss_fake\n",
        "loss_g = - d_loss_fake\n",
        "\"\"\"\n",
        "\n",
        "\n",
        "\n",
        "\n",
        "update_ops = tf.get_collection(tf.GraphKeys.UPDATE_OPS)\n",
        "with tf.control_dependencies(update_ops):\n",
        "    optimizer_d = tf.train.RMSPropOptimizer(learning_rate=0.00015).minimize(loss_d + d_reg, var_list=vars_d)\n",
        "    optimizer_g = tf.train.RMSPropOptimizer(learning_rate=0.00015).minimize(loss_g + g_reg, var_list=vars_g)\n",
        "    \n",
        "# weight clipping\n",
        "#vars_d = [p.assign(tf.clip_by_value(p, -0.05, 0.05)) for p in vars_d]    \n",
        "\n",
        "saver = tf.train.Saver()    \n",
        "sess = tf.Session()\n",
        "sess.run(tf.global_variables_initializer())\n"
      ],
      "execution_count": 0,
      "outputs": []
    },
    {
      "cell_type": "code",
      "metadata": {
        "id": "vEPQ3Bl8Pr3J",
        "colab_type": "code",
        "colab": {}
      },
      "source": [
        "# Load the Drive helper and mount\n",
        "from google.colab import drive\n",
        "\n",
        "# This will prompt for authorization.\n",
        "drive.mount('/content/drive')"
      ],
      "execution_count": 0,
      "outputs": []
    },
    {
      "cell_type": "code",
      "metadata": {
        "id": "tzvDmLS6yHaK",
        "colab_type": "code",
        "colab": {}
      },
      "source": [
        "n_noise =100\n",
        "batch_size = 20\n",
        "midis_array = tf.reshape(midis_array, shape=[-1, 36, 128, 1])\n",
        "midis_array = tf.Session().run(midis_array)"
      ],
      "execution_count": 0,
      "outputs": []
    },
    {
      "cell_type": "code",
      "metadata": {
        "id": "e6yUptgyyRZF",
        "colab_type": "code",
        "colab": {}
      },
      "source": [
        "def batch_input(x,n):\n",
        "  # x = [None, 48, 128, 1]\n",
        "  z = x\n",
        "  np.random.shuffle(z)\n",
        "  return z[0:n,:,:,:]\n",
        "\n",
        "def batch_input2(x,n):\n",
        "  # x = [None, 24, 128, 1]\n",
        "  z = x\n",
        "  np.random.shuffle(z)\n",
        "  return z[0:n,0:24,:,:]\n",
        "\n",
        "def batch_input3(x,n):\n",
        "  # x = [1, 24, 128, 1]\n",
        "  z = x\n",
        "  np.random.shuffle(z)\n",
        "  return z[0:100,0:24,:,:]\n",
        "\n",
        "\n",
        "import random\n",
        "import matplotlib.pyplot as plt\n",
        "\n",
        "batch = batch_input(midis_array, batch_size)\n",
        "batch.shape\n",
        "\n",
        "batch_size = 100\n",
        "b = 1\n"
      ],
      "execution_count": 0,
      "outputs": []
    },
    {
      "cell_type": "code",
      "metadata": {
        "id": "SQQJAcLRFF05",
        "colab_type": "code",
        "colab": {}
      },
      "source": [
        "saver.restore(sess, '/content/drive/My Drive/Music/Weight/01/train_model_CGANs0818.ckpt')"
      ],
      "execution_count": 0,
      "outputs": []
    },
    {
      "cell_type": "code",
      "metadata": {
        "id": "dtBGibeqyVrG",
        "colab_type": "code",
        "colab": {}
      },
      "source": [
        "b = b+1\n",
        "random.seed(b)\n",
        "sample = []\n",
        "for i in range(60000):\n",
        "    train_d = True\n",
        "    train_g = True\n",
        "    keep_prob_train = 0.6 # 0.5\n",
        "    \n",
        "    \n",
        "    n = np.random.uniform(0.0, 1.0, [batch_size, n_noise]).astype(np.float32)\n",
        "    batch = batch_input(midis_array ,batch_size)\n",
        "    batch2 = batch_input2(midis_array ,batch_size)\n",
        "    test = batch_input3(midis_array ,batch_size)\n",
        "    \n",
        "    g_ls, d_ls = sess.run([loss_g, loss_d], feed_dict={label:batch2, X_in: batch, noise: n, keep_prob: keep_prob_train, is_training:True})\n",
        "    \n",
        "    g_ls = g_ls\n",
        "    d_ls = d_ls\n",
        "    \n",
        "    if g_ls * 1.5 < d_ls:\n",
        "        train_g = False\n",
        "        pass\n",
        "      \n",
        "    if d_ls * 3 < g_ls:\n",
        "        train_d = False\n",
        "        pass\n",
        "  \n",
        "    if train_d:\n",
        "        sess.run(optimizer_d, feed_dict={noise: n, label:batch2, X_in: batch, keep_prob: keep_prob_train, is_training:True})\n",
        "        \n",
        "        \n",
        "    if train_g:\n",
        "        sess.run(optimizer_g, feed_dict={noise: n, label: batch2, keep_prob: keep_prob_train, is_training:True})\n",
        "        \n",
        "        \n",
        "    if not i % 30:\n",
        "        print (i, d_ls, g_ls)\n",
        "        if not train_g:\n",
        "            print(\"not training generator\")\n",
        "        if not train_d:\n",
        "            print(\"not training discriminator\")\n",
        "        gen_img = sess.run(g, feed_dict = {noise: n, label: test, keep_prob: 1.0, is_training:False})\n",
        "        print(np.sum(gen_img[1,:,:,:]))\n",
        "        implot = plt.imshow(gen_img[1,:,:,0], cmap=\"gray\")\n",
        "        plt.show()\n",
        "        image = test[2:3,:,:,:]\n",
        "        music = image\n",
        "        for i in range(4):\n",
        "          gen_img = sess.run(g, feed_dict = {noise: np.random.uniform(0.0, 1.0, [1, n_noise]).astype(np.float32), \n",
        "                                             label: image, keep_prob: 1.0, is_training:False})\n",
        "          gen_img=np.asarray(gen_img)*2\n",
        "          music = np.column_stack((music, gen_img[:,24:36,:,:]))\n",
        "\n",
        "          image = gen_img[:,12:36,:,:]\n",
        "        implot = plt.imshow(music.reshape(72,128), cmap=\"gray\")\n",
        "        plt.show()\n",
        "    if not i % 4000:\n",
        "      #saver.save(sess, '/content/drive/My Drive/Music/Weight/01/train_model_CGANs0740.ckpt')\n",
        "    #sample = sample.append(gen_img[1,:,:,:])\n",
        "        "
      ],
      "execution_count": 0,
      "outputs": []
    },
    {
      "cell_type": "code",
      "metadata": {
        "id": "71aeMat4D1E5",
        "colab_type": "code",
        "colab": {}
      },
      "source": [
        "gen_img = sess.run(g, feed_dict = {noise: n[0:1,:], label: test[0:1,:,:,:], keep_prob: 1.0, is_training:False})"
      ],
      "execution_count": 0,
      "outputs": []
    },
    {
      "cell_type": "code",
      "metadata": {
        "id": "otDNu4E-SDAN",
        "colab_type": "code",
        "outputId": "50c43ee8-4055-4707-f617-56815a610b8a",
        "colab": {
          "base_uri": "https://localhost:8080/",
          "height": 34
        }
      },
      "source": [
        "saver.save(sess, '/content/drive/My Drive/Music/Weight/01/train_model_CGANs0818.ckpt')"
      ],
      "execution_count": 0,
      "outputs": [
        {
          "output_type": "execute_result",
          "data": {
            "text/plain": [
              "'/content/drive/My Drive/Music/Weight/01/train_model_CGANs0818.ckpt'"
            ]
          },
          "metadata": {
            "tags": []
          },
          "execution_count": 104
        }
      ]
    },
    {
      "cell_type": "code",
      "metadata": {
        "id": "Co0_WXx2Pc8y",
        "colab_type": "code",
        "colab": {}
      },
      "source": [
        "image = test[j:j+1,:,:,:]\n",
        "music = image\n",
        "for i in range(5):\n",
        "  gen_img = sess.run(g, feed_dict = {noise: np.random.uniform(0.0, 1.0, [1, n_noise]).astype(np.float32), \n",
        "                                     label: image, keep_prob: 1.0, is_training:False})\n",
        "  gen_img=np.asarray(gen_img)\n",
        "  music = np.column_stack((music, gen_img[:,24:32,:,:]))\n",
        "\n",
        "  image = gen_img[:,8:32,:,:]\n",
        "implot = plt.imshow(music.reshape(64,128), cmap=\"gray\")\n",
        "plt.show()"
      ],
      "execution_count": 0,
      "outputs": []
    },
    {
      "cell_type": "code",
      "metadata": {
        "id": "khbTapEIQ7UD",
        "colab_type": "code",
        "outputId": "6b01a64a-f111-425e-b401-83e71960ac4e",
        "colab": {
          "base_uri": "https://localhost:8080/",
          "height": 217
        }
      },
      "source": [
        "implot = plt.imshow(music.reshape(64,128), cmap=\"gray\")\n",
        "plt.show()"
      ],
      "execution_count": 0,
      "outputs": [
        {
          "output_type": "display_data",
          "data": {
            "image/png": "[encoded data removed]",
            "text/plain": [
              "<Figure size 432x288 with 1 Axes>"
            ]
          },
          "metadata": {
            "tags": [],
            "image/png": {
              "width": 370,
              "height": 200
            }
          }
        }
      ]
    },
    {
      "cell_type": "code",
      "metadata": {
        "id": "C03IyUFhPkYN",
        "colab_type": "code",
        "colab": {}
      },
      "source": [
        "from midiutil.MidiFile import MIDIFile\n",
        "\n",
        "matrix = music[0,:,:,0]\n",
        "# create your MIDI object\n",
        "mf = MIDIFile(1)     # only 1 track\n",
        "track = 0   # the only track\n",
        "\n",
        "time = 0    # start at the beginning\n",
        "mf.addTrackName(track, time, \"Sample Track\")\n",
        "mf.addTempo(track, time, 120)\n",
        "\n",
        "# add some notes\n",
        "channel = 0\n",
        "volume = 100\n",
        "'''\n",
        "pitch = 60           # C4 (middle C)\n",
        "time = 0             # start on beat 0\n",
        "duration = 1         # 1 beat long\n",
        "mf.addNote(track, channel, pitch, time, duration, volume)\n",
        "\n",
        "pitch = 64           # E4\n",
        "time = 2             # start on beat 2\n",
        "duration = 1         # 1 beat long\n",
        "mf.addNote(track, channel, pitch, time, duration, volume)\n",
        "\n",
        "pitch = 67           # G4\n",
        "time = 4             # start on beat 4\n",
        "duration = 1         # 1 beat long\n",
        "mf.addNote(track, channel, pitch, time, duration, volume)\n",
        "'''\n",
        "for pitch in range(0,128):\n",
        "  time = 0\n",
        "  while time < 64:\n",
        "    duration = 1\n",
        "    if matrix[time, pitch]>=0.75:\n",
        "      if time <63:\n",
        "        while (matrix[time+duration, pitch]>=0.25)*(matrix[time+duration, pitch]<0.75)*(time+duration < 63):\n",
        "            duration  = duration+1            \n",
        "      mf.addNote(track, channel, pitch, time, duration, volume)\n",
        "    if (matrix[time, pitch]>= 0.5)*(matrix[time-1, pitch]== 0):  \n",
        "      if time <63:\n",
        "        while (matrix[time+duration, pitch]>=0.25)*(matrix[time+duration, pitch]<0.75)*(time+duration < 63):\n",
        "            duration  = duration+1            \n",
        "      mf.addNote(track, channel, pitch, time, duration, volume)      \n",
        "    \n",
        "    time +=1\n",
        "    \n",
        "\n",
        "\n",
        "# write it to disk\n",
        "with open(\"output4.mid\", 'wb') as outf:\n",
        "    mf.writeFile(outf)  "
      ],
      "execution_count": 0,
      "outputs": []
    },
    {
      "cell_type": "code",
      "metadata": {
        "id": "xAqDV0BeY7QK",
        "colab_type": "code",
        "colab": {}
      },
      "source": [
        "for file in os.listdir(os.getcwd()):\n",
        "    if file.endswith(\"output4.mid\"):\n",
        "      files.download(file)"
      ],
      "execution_count": 0,
      "outputs": []
    },
    {
      "cell_type": "markdown",
      "metadata": {
        "id": "BswPm1JJVhM9",
        "colab_type": "text"
      },
      "source": [
        "#Conditional DCGANs (some other experiment)"
      ]
    },
    {
      "cell_type": "code",
      "metadata": {
        "id": "TatsVWtwGvd_",
        "colab_type": "code",
        "colab": {}
      },
      "source": [
        "keep_prob=0.99"
      ],
      "execution_count": 0,
      "outputs": []
    },
    {
      "cell_type": "code",
      "metadata": {
        "colab_type": "code",
        "id": "5rDlYRiNVmxu",
        "colab": {}
      },
      "source": [
        "def binary_cross_entropy(x, z):\n",
        "    eps = 1e-12\n",
        "    return (-(x * tf.log(z + eps) + (1. - x) * tf.log(1. - z + eps)))\n",
        "\n",
        "def discriminator(img_in, reuse=None, keep_prob=None):\n",
        "    with tf.variable_scope(\"discriminator\", reuse=reuse):\n",
        "        x = tf.reshape(img_in, shape=[-1, 48, 128, 1])\n",
        "        x = tf.layers.conv2d(x, kernel_size=(8,5), filters=64, strides=1, padding='same', activation=tf.nn.leaky_relu)\n",
        "        #x = tf.layers.dropout(x, keep_prob)\n",
        "        x = tf.layers.conv2d(x, kernel_size=(5,32), filters=64, strides=1, padding='same', activation=tf.nn.leaky_relu)\n",
        "        #x = tf.layers.dropout(x, keep_prob)\n",
        "        #x = tf.layers.conv2d(x, kernel_size=5, filters=64, strides=1, padding='same', activation=tf.nn.leaky_relu)\n",
        "        #x = tf.layers.dropout(x, keep_prob)\n",
        "        x = tf.contrib.layers.flatten(x)\n",
        "        x = tf.layers.dense(x, units=256, activation=tf.nn.leaky_relu)\n",
        "        x = tf.layers.dense(x, units=32, activation=tf.nn.leaky_relu)\n",
        "        x = tf.layers.dense(x, units=1, activation=tf.nn.sigmoid)\n",
        "        return x"
      ],
      "execution_count": 0,
      "outputs": []
    },
    {
      "cell_type": "code",
      "metadata": {
        "colab_type": "code",
        "id": "kN2fDk9_Vmxw",
        "colab": {}
      },
      "source": [
        "tf.reset_default_graph()\n",
        "X_in = tf.placeholder(dtype=tf.float32, shape=[None, 48, 128, 1], name='X')\n",
        "noise = tf.placeholder(dtype=tf.float32, shape=[None, 100])\n",
        "label = tf.placeholder(dtype=tf.float32, shape=[None, 24, 128, 1])\n",
        "\n",
        "keep_prob = tf.placeholder(dtype=tf.float32, name='keep_prob')\n",
        "is_training = tf.placeholder(dtype=tf.bool, name='is_training')\n",
        "\n",
        "\n",
        "def generator(z, y, keep_prob=keep_prob, is_training=is_training):\n",
        "    momentum = 0.99\n",
        "    with tf.variable_scope(\"generator\", reuse=None):\n",
        "        x = z\n",
        "        label = tf.layers.conv2d(y, kernel_size=(8,5), filters=32, strides=1, padding='same', activation=tf.nn.leaky_relu)\n",
        "        label = tf.layers.conv2d(label, kernel_size=(5,16), filters=32, strides=1, padding='same', activation=tf.nn.leaky_relu)\n",
        "        label = tf.contrib.layers.flatten(label)\n",
        "        label = tf.layers.dense(label, units=256, activation=tf.nn.leaky_relu)\n",
        "        label = tf.layers.dense(label, units=32, activation=tf.nn.leaky_relu)\n",
        "        # label is the conditional part should be 24 and x should be 8\n",
        "        x = tf.concat([x, label],1)\n",
        "        x = tf.layers.dense(x, units= 32, activation= tf.nn.leaky_relu)\n",
        "        #x = tf.layers.dropout(x, keep_prob)\n",
        "        x = tf.contrib.layers.batch_norm(x, is_training=is_training, decay=momentum)\n",
        "        x = tf.reshape(x, shape=[-1, 2, 16, 1])\n",
        "        x = tf.image.resize_images(x, size=[6,32])\n",
        "        x = tf.layers.conv2d_transpose(x, kernel_size=(8,3), filters=64, strides=2, padding='same', activation= tf.nn.leaky_relu)\n",
        "        #x = tf.layers.dropout(x, keep_prob)\n",
        "        x = tf.contrib.layers.batch_norm(x, is_training=is_training, decay=momentum)\n",
        "        x = tf.layers.conv2d_transpose(x, kernel_size=(4,12), filters=64, strides=2, padding='same', activation= tf.nn.leaky_relu)\n",
        "        #x = tf.layers.dropout(x, keep_prob)\n",
        "        x = tf.contrib.layers.batch_norm(x, is_training=is_training, decay=momentum)\n",
        "        x = tf.layers.conv2d_transpose(x, kernel_size=(8,4), filters=64, strides=1, padding='same', activation= tf.nn.leaky_relu)\n",
        "        #x = tf.layers.dropout(x, keep_prob)\n",
        "        x = tf.contrib.layers.batch_norm(x, is_training=is_training, decay=momentum)\n",
        "        x = tf.layers.conv2d_transpose(x, kernel_size=(4,12), filters=1, strides=1, padding='same', activation=tf.nn.sigmoid)\n",
        "        \n",
        "        return  tf.concat([y,x],1)"
      ],
      "execution_count": 0,
      "outputs": []
    },
    {
      "cell_type": "code",
      "metadata": {
        "colab_type": "code",
        "id": "3kpj61M6Vmxy",
        "colab": {}
      },
      "source": [
        "g = generator(noise, label, keep_prob, is_training)\n",
        "d_real = discriminator(X_in)\n",
        "d_fake = discriminator(g, reuse=True)\n",
        "\n",
        "vars_g = [var for var in tf.trainable_variables() if var.name.startswith(\"generator\")]\n",
        "vars_d = [var for var in tf.trainable_variables() if var.name.startswith(\"discriminator\")]\n",
        "\n",
        "\n",
        "d_reg = tf.contrib.layers.apply_regularization(tf.contrib.layers.l2_regularizer(0.01), vars_d)\n",
        "g_reg = tf.contrib.layers.apply_regularization(tf.contrib.layers.l2_regularizer(0.01), vars_g)\n",
        "\n",
        "\"\"\"\n",
        "\n",
        "loss_d_real = binary_cross_entropy(tf.ones_like(d_real), d_real)\n",
        "loss_d_fake = binary_cross_entropy(tf.zeros_like(d_fake), d_fake)\n",
        "\n",
        "loss_g = tf.reduce_mean(binary_cross_entropy(tf.ones_like(d_fake), d_fake))\n",
        "loss_d = tf.reduce_mean(0.5 * (loss_d_real + loss_d_fake))\n",
        "\n",
        "d_loss_real = - tf.reduce_mean(d_real)\n",
        "d_loss_fake = tf.reduce_mean(d_fake)\n",
        "\n",
        "loss_d = d_loss_real + d_loss_fake\n",
        "loss_g = - d_loss_fake\n",
        "\"\"\"\n",
        "\n",
        "\n",
        "loss_d = tf.contrib.gan.losses.wargs.wasserstein_discriminator_loss(d_real, d_fake)\n",
        "loss_g = tf.contrib.gan.losses.wargs.wasserstein_generator_loss(d_fake)\n",
        "\n",
        "\n",
        "\n",
        "update_ops = tf.get_collection(tf.GraphKeys.UPDATE_OPS)\n",
        "with tf.control_dependencies(update_ops):\n",
        "    optimizer_d = tf.train.RMSPropOptimizer(learning_rate=0.00015).minimize(loss_d + d_reg, var_list=vars_d)\n",
        "    optimizer_g = tf.train.RMSPropOptimizer(learning_rate=0.00015).minimize(loss_g + g_reg, var_list=vars_g)\n",
        "    \n",
        "# weight clipping\n",
        "vars_d = [p.assign(tf.clip_by_value(p, -0.05, 0.05)) for p in vars_d]    \n",
        "\n",
        "saver = tf.train.Saver()   \n",
        "sess = tf.Session()\n",
        "sess.run(tf.global_variables_initializer())"
      ],
      "execution_count": 0,
      "outputs": []
    },
    {
      "cell_type": "code",
      "metadata": {
        "colab_type": "code",
        "id": "fv0F6Zp_Vmx0",
        "colab": {}
      },
      "source": [
        "n_noise =100\n",
        "batch_size = 20\n",
        "midis_array = tf.reshape(midis_array, shape=[-1, 48, 128, 1])\n",
        "midis_array = tf.Session().run(midis_array)"
      ],
      "execution_count": 0,
      "outputs": []
    },
    {
      "cell_type": "code",
      "metadata": {
        "colab_type": "code",
        "id": "TjBFwWEYVmx2",
        "colab": {}
      },
      "source": [
        "def batch_input(x,n):\n",
        "  # x = [None, 32, 128, 1]\n",
        "  z = x\n",
        "  np.random.shuffle(z)\n",
        "  return z[0:n,:,:,:]\n",
        "\n",
        "def batch_input2(x,n):\n",
        "  # x = [None, 24, 128, 1]\n",
        "  z = x\n",
        "  np.random.shuffle(z)\n",
        "  return z[0:n,0:24,:,:]\n",
        "\n",
        "def batch_input3(x,n):\n",
        "  # x = [1, 24, 128, 1]\n",
        "  z = x\n",
        "  np.random.shuffle(z)\n",
        "  return z[0:n,0:24,:,:]\n",
        "\n",
        "\n",
        "import random\n",
        "import matplotlib.pyplot as plt\n",
        "\n",
        "batch = batch_input(midis_array, batch_size)\n",
        "batch.shape\n",
        "\n",
        "batch_size = 100\n",
        "b = 1\n"
      ],
      "execution_count": 0,
      "outputs": []
    },
    {
      "cell_type": "code",
      "metadata": {
        "colab_type": "code",
        "id": "KYUP4KapVmx4",
        "colab": {}
      },
      "source": [
        "\n",
        "saver.restore(sess, '/content/drive/My Drive/Music/Weight/03/train_model_CGANs_was_RMS_0.00015.ckpt')"
      ],
      "execution_count": 0,
      "outputs": []
    },
    {
      "cell_type": "code",
      "metadata": {
        "id": "QarFAz_l4OuG",
        "colab_type": "code",
        "outputId": "1e22a34b-665e-40f4-cb04-391a74ce6745",
        "colab": {
          "base_uri": "https://localhost:8080/",
          "height": 32
        }
      },
      "source": [
        "midis_array.shape"
      ],
      "execution_count": 0,
      "outputs": [
        {
          "output_type": "execute_result",
          "data": {
            "text/plain": [
              "(5417, 48, 128, 1)"
            ]
          },
          "metadata": {
            "tags": []
          },
          "execution_count": 760
        }
      ]
    },
    {
      "cell_type": "code",
      "metadata": {
        "id": "04FOqcQ04Fsk",
        "colab_type": "code",
        "outputId": "2f04b1b3-e91b-4edd-bb47-b561ee46b244",
        "colab": {
          "base_uri": "https://localhost:8080/",
          "height": 32
        }
      },
      "source": [
        "batch_input3(midis_array ,1000).shape"
      ],
      "execution_count": 0,
      "outputs": [
        {
          "output_type": "execute_result",
          "data": {
            "text/plain": [
              "(1000, 24, 128, 1)"
            ]
          },
          "metadata": {
            "tags": []
          },
          "execution_count": 762
        }
      ]
    },
    {
      "cell_type": "code",
      "metadata": {
        "id": "16vvCDar32DR",
        "colab_type": "code",
        "outputId": "4c71803a-c946-427f-9017-ba32525ba7b0",
        "colab": {
          "base_uri": "https://localhost:8080/",
          "height": 32
        }
      },
      "source": [
        "gen_img.shape"
      ],
      "execution_count": 0,
      "outputs": [
        {
          "output_type": "execute_result",
          "data": {
            "text/plain": [
              "(1000, 48, 128, 1)"
            ]
          },
          "metadata": {
            "tags": []
          },
          "execution_count": 764
        }
      ]
    },
    {
      "cell_type": "code",
      "metadata": {
        "id": "QHXkADfv3qV4",
        "colab_type": "code",
        "colab": {}
      },
      "source": [
        "gen_img = sess.run(g, feed_dict = {noise: np.random.uniform(0.0, 1.0, [1000, n_noise]).astype(np.float32), \n",
        "                                     label: batch_input3(midis_array ,1000), keep_prob: 1.0, is_training:False})\n",
        "gen_img=np.asarray(gen_img)"
      ],
      "execution_count": 0,
      "outputs": []
    },
    {
      "cell_type": "code",
      "metadata": {
        "id": "pVZt3QHQ3svb",
        "colab_type": "code",
        "outputId": "b83c2128-f04f-4923-becb-93eec49eb205",
        "colab": {
          "base_uri": "https://localhost:8080/",
          "height": 32
        }
      },
      "source": [
        "gen_img.shape"
      ],
      "execution_count": 0,
      "outputs": [
        {
          "output_type": "execute_result",
          "data": {
            "text/plain": [
              "(1000, 48, 128, 1)"
            ]
          },
          "metadata": {
            "tags": []
          },
          "execution_count": 301
        }
      ]
    },
    {
      "cell_type": "code",
      "metadata": {
        "id": "MmlhfZ3xWniW",
        "colab_type": "code",
        "colab": {}
      },
      "source": [
        "j = 1"
      ],
      "execution_count": 0,
      "outputs": []
    },
    {
      "cell_type": "code",
      "metadata": {
        "id": "V5J_A48QXZDs",
        "colab_type": "code",
        "outputId": "be143202-e577-4e89-e02c-4b838a84fb96",
        "colab": {
          "base_uri": "https://localhost:8080/",
          "height": 267
        }
      },
      "source": [
        "j+=1\n",
        "image = test[j:j+1,:,:,:]\n",
        "music = image\n",
        "for i in range(4):\n",
        "  gen_img = sess.run(g, feed_dict = {noise: np.random.uniform(0.0, 1.0, [1, n_noise]).astype(np.float32), \n",
        "                                     label: image, keep_prob: 1.0, is_training:False})\n",
        "  gen_img=np.asarray(gen_img)*2\n",
        "  music = np.column_stack((music, gen_img[:,24:48,:,:]))\n",
        "\n",
        "  image = gen_img[:,24:48,:,:]\n",
        "implot = plt.imshow(music.reshape(120,128), cmap=\"gray\")\n",
        "plt.show()"
      ],
      "execution_count": 0,
      "outputs": [
        {
          "output_type": "display_data",
          "data": {
            "image/png": "[encoded data removed]",
            "text/plain": [
              "<Figure size 432x288 with 1 Axes>"
            ]
          },
          "metadata": {
            "tags": [],
            "image/png": {
              "width": 274,
              "height": 251
            }
          }
        }
      ]
    },
    {
      "cell_type": "code",
      "metadata": {
        "id": "rHYd40MghoPe",
        "colab_type": "code",
        "outputId": "49b2140c-b217-440f-c376-ef4e0e24b883",
        "colab": {
          "base_uri": "https://localhost:8080/",
          "height": 32
        }
      },
      "source": [
        "11264/128"
      ],
      "execution_count": 0,
      "outputs": [
        {
          "output_type": "execute_result",
          "data": {
            "text/plain": [
              "88.0"
            ]
          },
          "metadata": {
            "tags": []
          },
          "execution_count": 816
        }
      ]
    },
    {
      "cell_type": "code",
      "metadata": {
        "id": "bMrRIun0h0VB",
        "colab_type": "code",
        "colab": {}
      },
      "source": [
        "j =1"
      ],
      "execution_count": 0,
      "outputs": []
    },
    {
      "cell_type": "code",
      "metadata": {
        "id": "0yveyniYpE7-",
        "colab_type": "code",
        "outputId": "e4a47ed1-e883-4696-a81c-2977aa9bcd57",
        "colab": {
          "base_uri": "https://localhost:8080/",
          "height": 265
        }
      },
      "source": [
        "test = batch_input3(midis_array ,100)\n",
        "j+=1\n",
        "image = test[j:j+1,:,:,:]\n",
        "music = image\n",
        "for i in range(8):\n",
        "  gen_img = sess.run(g, feed_dict = {noise: np.random.uniform(0.0, 1.0, [1, n_noise]).astype(np.float32), \n",
        "                                     label: image, keep_prob: 1.0, is_training:False})\n",
        "  gen_img=np.asarray(gen_img)\n",
        "  \n",
        "  gen_img= gen_img[0,:,:,0]\n",
        "  for pitch in range(0,128):\n",
        "    time = 0\n",
        "    while time < 48:\n",
        "      duration = 1\n",
        "      if gen_img[time, pitch]>=0.7:\n",
        "        gen_img[time, pitch] = 1\n",
        "        if time <47:\n",
        "          while (gen_img[time+duration, pitch]>=0.65)*(gen_img[time+duration, pitch]<0.7)*(time+duration < 47):\n",
        "              gen_img[time+duration, pitch] = 0.5\n",
        "              duration  = duration+1                    \n",
        "\n",
        "      time +=1\n",
        "  gen_img = gen_img.reshape(1,48,128,1)\n",
        "  music = np.column_stack((music, gen_img[:,24:32,:,:]))\n",
        "\n",
        "  image = gen_img[:,8:32,:,:]\n",
        "implot = plt.imshow(music.reshape(88,128), cmap=\"gray\")\n",
        "\n",
        "plt.show()"
      ],
      "execution_count": 0,
      "outputs": [
        {
          "output_type": "display_data",
          "data": {
            "image/png": "[encoded data removed]",
            "text/plain": [
              "<Figure size 432x288 with 1 Axes>"
            ]
          },
          "metadata": {
            "tags": [],
            "image/png": {
              "width": 352,
              "height": 250
            }
          }
        }
      ]
    },
    {
      "cell_type": "code",
      "metadata": {
        "colab_type": "code",
        "id": "lHZDxlvPVmx7",
        "outputId": "f6ef85ce-d112-47d6-a0eb-4cc3974ff1dc",
        "colab": {
          "base_uri": "https://localhost:8080/",
          "height": 474
        }
      },
      "source": [
        "\n",
        "b = b+1\n",
        "random.seed(b)\n",
        "sample = []\n",
        "for i in range(1):\n",
        "    train_d = True\n",
        "    train_g = True\n",
        "    keep_prob_train = 0.6 # 0.5\n",
        "    \n",
        "    \n",
        "    n = np.random.uniform(0.0, 1.0, [batch_size, n_noise]).astype(np.float32)\n",
        "    batch = batch_input(midis_array ,batch_size)\n",
        "    batch2 = batch_input2(midis_array ,batch_size)\n",
        "    test = batch_input3(midis_array ,batch_size)\n",
        "    \n",
        "    g_ls, d_ls = sess.run([loss_g, loss_d], feed_dict={label:batch2, X_in: batch, noise: n, keep_prob: keep_prob_train, is_training:True})\n",
        "    \n",
        "    g_ls = g_ls\n",
        "    d_ls = d_ls\n",
        "\n",
        "    if g_ls * 1.5 < d_ls:\n",
        "        train_g = False\n",
        "        pass\n",
        "      \n",
        "    if d_ls * 3 < g_ls:\n",
        "        train_d = False\n",
        "        pass\n",
        "\n",
        "    #if train_d:\n",
        "    for j in range(1):\n",
        "        sess.run(optimizer_d, feed_dict={noise: n, label:batch2, X_in: batch, keep_prob: keep_prob_train, is_training:True})\n",
        "        \n",
        "        \n",
        "    #if train_g:\n",
        "    for j in range(5):\n",
        "        sess.run(optimizer_g, feed_dict={noise: n, label: batch2, keep_prob: keep_prob_train, is_training:True})\n",
        "             \n",
        "        \n",
        "    if not i % 1:\n",
        "        print (i, d_ls, g_ls)\n",
        "        if not train_g:\n",
        "            print(\"not training generator\")\n",
        "        if not train_d:\n",
        "            print(\"not training discriminator\")\n",
        "        gen_img = sess.run(g, feed_dict = {noise: n, label: test, keep_prob: 1.0, is_training:False})\n",
        "        print(np.sum(gen_img[1,:,:,:]))\n",
        "        implot = plt.imshow(gen_img[1,:,:,0], cmap=\"gray\")\n",
        "        plt.show()\n",
        "        image = test[2:3,:,:,:]\n",
        "        music = image\n",
        "        for i in range(4):\n",
        "          gen_img = sess.run(g, feed_dict = {noise: np.random.uniform(0.0, 1.0, [1, n_noise]).astype(np.float32), \n",
        "                                             label: image, keep_prob: 1.0, is_training:False})\n",
        "          gen_img=np.asarray(gen_img)*2\n",
        "          music = np.column_stack((music, gen_img[:,24:48,:,:]))\n",
        "\n",
        "          image = gen_img[:,24:48,:,:]\n",
        "        implot = plt.imshow(music.reshape(120,128), cmap=\"gray\")\n",
        "        plt.show()\n",
        "     \n",
        "    if not i % 5000:\n",
        "      saver.save(sess, '/content/drive/My Drive/Music/Weight/03/train_model_CGANs_new01.ckpt')\n",
        "\n",
        "        #sample = sample.append(gen_img[1,:,:,:])\n",
        "#saver.save(sess, '/content/drive/My Drive/Music/Weight/03/train_model_CGANs090.ckpt')"
      ],
      "execution_count": 0,
      "outputs": [
        {
          "output_type": "stream",
          "text": [
            "0 -0.68973595 -0.0037582903\n",
            "not training discriminator\n",
            "93.53967\n"
          ],
          "name": "stdout"
        },
        {
          "output_type": "display_data",
          "data": {
            "image/png": "[encoded data removed]",
            "text/plain": [
              "<Figure size 432x288 with 1 Axes>"
            ]
          },
          "metadata": {
            "tags": [],
            "image/png": {
              "width": 370,
              "height": 158
            }
          }
        },
        {
          "output_type": "display_data",
          "data": {
            "image/png": "[encoded data removed]",
            "text/plain": [
              "<Figure size 432x288 with 1 Axes>"
            ]
          },
          "metadata": {
            "tags": [],
            "image/png": {
              "width": 274,
              "height": 251
            }
          }
        }
      ]
    },
    {
      "cell_type": "code",
      "metadata": {
        "colab_type": "code",
        "id": "G0hej0G1Vmx9",
        "colab": {}
      },
      "source": [
        "gen_img = sess.run(g, feed_dict = {noise: n[0:1,:], label: test[0:1,:,:,:], keep_prob: 1.0, is_training:False})"
      ],
      "execution_count": 0,
      "outputs": []
    },
    {
      "cell_type": "code",
      "metadata": {
        "id": "rNZQBuqu5b_j",
        "colab_type": "code",
        "outputId": "ae39f8fa-d030-4328-d541-bee48fa0b495",
        "colab": {
          "base_uri": "https://localhost:8080/",
          "height": 32
        }
      },
      "source": [
        "saver.save(sess, '/content/drive/My Drive/Music/Weight/03/train_model_CGANs_was_RMS_0.00015.ckpt')"
      ],
      "execution_count": 0,
      "outputs": [
        {
          "output_type": "execute_result",
          "data": {
            "text/plain": [
              "'/content/drive/My Drive/Music/Weight/03/train_model_CGANs_was_RMS_0.00015.ckpt'"
            ]
          },
          "metadata": {
            "tags": []
          },
          "execution_count": 742
        }
      ]
    },
    {
      "cell_type": "code",
      "metadata": {
        "colab_type": "code",
        "id": "uZqKMbGnVmyA",
        "colab": {}
      },
      "source": [
        "j = 1"
      ],
      "execution_count": 0,
      "outputs": []
    },
    {
      "cell_type": "code",
      "metadata": {
        "id": "yHMVZtArUES_",
        "colab_type": "code",
        "colab": {}
      },
      "source": [
        "for pitch in range(0,128):\n",
        "  time = 0\n",
        "  while time < 64:\n",
        "    duration = 1\n",
        "    if matrix[time, pitch]>=0.7:\n",
        "      matrix[time, pitch] = 1\n",
        "      if time <63:\n",
        "        while (matrix[time+duration, pitch]>=0.25)*(matrix[time+duration, pitch]<0.7)*(time+duration < 63):\n",
        "            matrix[time, pitch] = 0.5\n",
        "            duration  = duration+1            \n",
        "    if (matrix[time, pitch]>= 0.5)*(matrix[time-1, pitch]<0.25):  \n",
        "      if time <63:\n",
        "        while (matrix[time+duration, pitch]>=0.25)*(matrix[time+duration, pitch]<0.7)*(time+duration < 63):\n",
        "            duration  = duration+1               \n",
        "    \n",
        "    time +=1"
      ],
      "execution_count": 0,
      "outputs": []
    },
    {
      "cell_type": "code",
      "metadata": {
        "id": "qpiuvkvVH3fm",
        "colab_type": "code",
        "outputId": "e5cf2a22-aa55-40f4-d452-b2ab835545a2",
        "colab": {
          "base_uri": "https://localhost:8080/",
          "height": 267
        }
      },
      "source": [
        "j+=1\n",
        "image = test[j:j+1,:,:,:]\n",
        "music = image\n",
        "for i in range(4):\n",
        "  gen_img = sess.run(g, feed_dict = {noise: np.random.uniform(0.0, 1.0, [1, n_noise]).astype(np.float32), \n",
        "                                     label: image, keep_prob: 1.0, is_training:False})\n",
        "  gen_img=np.asarray(gen_img)*2\n",
        "  music = np.column_stack((music, gen_img[:,24:48,:,:]))\n",
        "\n",
        "  image = gen_img[:,24:48,:,:]\n",
        "implot = plt.imshow(music.reshape(120,128), cmap=\"gray\")"
      ],
      "execution_count": 0,
      "outputs": [
        {
          "output_type": "display_data",
          "data": {
            "image/png": "[encoded data removed]",
            "text/plain": [
              "<Figure size 432x288 with 1 Axes>"
            ]
          },
          "metadata": {
            "tags": [],
            "image/png": {
              "width": 274,
              "height": 251
            }
          }
        }
      ]
    },
    {
      "cell_type": "code",
      "metadata": {
        "colab_type": "code",
        "outputId": "b6206f77-1e1d-4f97-8c53-3d13686f4a6a",
        "id": "USVb2PX0VmyF",
        "colab": {
          "base_uri": "https://localhost:8080/",
          "height": 34
        }
      },
      "source": [
        "np.asarray(music).shape"
      ],
      "execution_count": 0,
      "outputs": [
        {
          "output_type": "execute_result",
          "data": {
            "text/plain": [
              "(1, 84, 128, 1)"
            ]
          },
          "metadata": {
            "tags": []
          },
          "execution_count": 263
        }
      ]
    },
    {
      "cell_type": "code",
      "metadata": {
        "colab_type": "code",
        "outputId": "6a045fea-ea4f-46af-ebf9-1e11b845847f",
        "id": "l-PzSeWCVmyG",
        "colab": {
          "base_uri": "https://localhost:8080/",
          "height": 217
        }
      },
      "source": [
        "implot = plt.imshow(music.reshape(64,128), cmap=\"gray\")\n",
        "plt.show()"
      ],
      "execution_count": 0,
      "outputs": [
        {
          "output_type": "display_data",
          "data": {
            "image/png": "[encoded data removed]",
            "text/plain": [
              "<Figure size 432x288 with 1 Axes>"
            ]
          },
          "metadata": {
            "tags": [],
            "image/png": {
              "width": 370,
              "height": 200
            }
          }
        }
      ]
    },
    {
      "cell_type": "markdown",
      "metadata": {
        "id": "MM1V0RntKauF",
        "colab_type": "text"
      },
      "source": [
        "# Generate and Download MIDI files\n"
      ]
    },
    {
      "cell_type": "code",
      "metadata": {
        "colab_type": "code",
        "outputId": "0d2f7d14-998e-4528-f027-de5afa384058",
        "id": "pqJOStnuVmyI",
        "colab": {
          "base_uri": "https://localhost:8080/",
          "height": 227
        }
      },
      "source": [
        "pip install midiutil"
      ],
      "execution_count": 0,
      "outputs": [
        {
          "output_type": "stream",
          "text": [
            "Collecting midiutil\n",
            "\u001b[?25l  Downloading https://files.pythonhosted.org/packages/f5/44/fde6772d8bfaea64fcf5eb948124d0a5fdf5f848b14ac22a23ced53e562d/MIDIUtil-1.2.1.tar.gz (1.0MB)\n",
            "\u001b[K     |████████████████████████████████| 1.0MB 3.4MB/s \n",
            "\u001b[?25hBuilding wheels for collected packages: midiutil\n",
            "  Building wheel for midiutil (setup.py) ... \u001b[?25l\u001b[?25hdone\n",
            "  Created wheel for midiutil: filename=MIDIUtil-1.2.1-cp36-none-any.whl size=54569 sha256=9f20a896aec2be70eb5dda0170a2a74ea045b3f2d87b2234fc0697c03ae804e5\n",
            "  Stored in directory: /root/.cache/pip/wheels/70/f1/24/97bde012f64820632e1e5e2935df19dfbcf9e058b0734b57cd\n",
            "Successfully built midiutil\n",
            "Installing collected packages: midiutil\n",
            "Successfully installed midiutil-1.2.1\n"
          ],
          "name": "stdout"
        }
      ]
    },
    {
      "cell_type": "code",
      "metadata": {
        "id": "8TS94_nL5uwG",
        "colab_type": "code",
        "outputId": "42d84542-9a64-49fc-a0f7-8eb115915412",
        "colab": {
          "base_uri": "https://localhost:8080/",
          "height": 32
        }
      },
      "source": [
        "music.shape"
      ],
      "execution_count": 0,
      "outputs": [
        {
          "output_type": "execute_result",
          "data": {
            "text/plain": [
              "(1, 84, 128, 1)"
            ]
          },
          "metadata": {
            "tags": []
          },
          "execution_count": 190
        }
      ]
    },
    {
      "cell_type": "code",
      "metadata": {
        "colab_type": "code",
        "id": "EGHV9F13VmyJ",
        "colab": {}
      },
      "source": [
        "from google.colab import files\n",
        "from midiutil.MidiFile import MIDIFile\n",
        "\n",
        "matrix = music[0,:,:,0]\n",
        "# create your MIDI object\n",
        "mf = MIDIFile(1)     # only 1 track\n",
        "track = 0   # the only track\n",
        "\n",
        "time = 0    # start at the beginning\n",
        "mf.addTrackName(track, time, \"Sample Track\")\n",
        "mf.addTempo(track, time, 120)\n",
        "\n",
        "# add some notes\n",
        "channel = 0\n",
        "volume = 100\n",
        "'''\n",
        "pitch = 60           # C4 (middle C)\n",
        "time = 0             # start on beat 0\n",
        "duration = 1         # 1 beat long\n",
        "mf.addNote(track, channel, pitch, time, duration, volume)\n",
        "\n",
        "pitch = 64           # E4\n",
        "time = 2             # start on beat 2\n",
        "duration = 1         # 1 beat long\n",
        "mf.addNote(track, channel, pitch, time, duration, volume)\n",
        "\n",
        "pitch = 67           # G4\n",
        "time = 4             # start on beat 4\n",
        "duration = 1         # 1 beat long\n",
        "mf.addNote(track, channel, pitch, time, duration, volume)\n",
        "'''\n",
        "for pitch in range(0,128):\n",
        "  time = 0\n",
        "  while time < 64:\n",
        "    duration = 1\n",
        "    if matrix[time, pitch]>=0.7:\n",
        "      if time <63:\n",
        "        while (matrix[time+duration, pitch]>=0.25)*(matrix[time+duration, pitch]<0.7)*(time+duration < 63):\n",
        "            duration  = duration+1            \n",
        "      mf.addNote(track, channel, pitch, time, duration, volume)\n",
        "    if (matrix[time, pitch]>= 0.5)*(matrix[time-1, pitch]<0.25):  \n",
        "      if time <63:\n",
        "        while (matrix[time+duration, pitch]>=0.25)*(matrix[time+duration, pitch]<0.7)*(time+duration < 63):\n",
        "            duration  = duration+1            \n",
        "      mf.addNote(track, channel, pitch, time, duration, volume)      \n",
        "    \n",
        "    time +=1\n",
        "    \n",
        "\n",
        "\n",
        "# write it to disk\n",
        "with open(\"output4.mid\", 'wb') as outf:\n",
        "    mf.writeFile(outf)  \n",
        "    \n",
        "for file in os.listdir(os.getcwd()):\n",
        "    if file.endswith(\"output4.mid\"):\n",
        "      files.download(file)    "
      ],
      "execution_count": 0,
      "outputs": []
    },
    {
      "cell_type": "code",
      "metadata": {
        "colab_type": "code",
        "id": "KDa74D0JVmyK",
        "colab": {}
      },
      "source": [
        "\n",
        "for file in os.listdir(os.getcwd()):\n",
        "    if file.endswith(\"output4.mid\"):\n",
        "      files.download(file)"
      ],
      "execution_count": 0,
      "outputs": []
    },
    {
      "cell_type": "markdown",
      "metadata": {
        "id": "rL1acEv0uint",
        "colab_type": "text"
      },
      "source": [
        "#Test-Classifier"
      ]
    },
    {
      "cell_type": "code",
      "metadata": {
        "id": "kWhmOV1iSCu1",
        "colab_type": "code",
        "colab": {}
      },
      "source": [
        "a = 48\n",
        "data=[]\n",
        "b = 1\n",
        "\n",
        "for i, file in enumerate(glob.glob(\"/content/drive/My Drive/Music/*.mid\")):\n",
        "      print(i)\n",
        "      print(file)\n",
        "      data_temp = midi_to_matrix(file)\n",
        "      b += 1\n",
        "      for j in range(int(np.floor(data_temp[0,:].shape[0]-a))):\n",
        "          if not j%6:          \n",
        "            #if np.sum(data_temp[:,j:(j+a)]==0.5)-np.sum(data_temp[:,j:(j+a)]==1) <=30:\n",
        "             # if np.sum(data_temp[:,j:(j+a)]==1)>=20:\n",
        "                 data.append(data_temp[:,j:(j+a)])"
      ],
      "execution_count": 0,
      "outputs": []
    },
    {
      "cell_type": "code",
      "metadata": {
        "id": "3Jb6G4k1Tp0C",
        "colab_type": "code",
        "colab": {}
      },
      "source": [
        "midis_arraytest = np.asarray(data)\n",
        "    \n",
        "midis_arraytest = np.transpose(midis_arraytest, (0, 2, 1)) \n",
        "midis_arraytest = np.asarray(midis_arraytest)\n",
        "midis_arraytest =midis_arraytest.reshape(-1,48,128,1)"
      ],
      "execution_count": 0,
      "outputs": []
    },
    {
      "cell_type": "code",
      "metadata": {
        "id": "K4hzPDmwVRQk",
        "colab_type": "code",
        "colab": {}
      },
      "source": [
        "midis_array =midis_array.reshape(-1,48,128,1)"
      ],
      "execution_count": 0,
      "outputs": []
    },
    {
      "cell_type": "code",
      "metadata": {
        "id": "MRt1G4T6UzSU",
        "colab_type": "code",
        "colab": {}
      },
      "source": [
        "def batch_input(x,n):\n",
        "  # x = [None, 48, 128, 1]\n",
        "  z = x\n",
        "  np.random.shuffle(z)\n",
        "  return z[0:n,:,:,:]\n",
        "\n",
        "def batch_input2(x,n):\n",
        "  # x = [None, 24, 128, 1]\n",
        "  z = x\n",
        "  np.random.shuffle(z)\n",
        "  return z[0:n,0:24,:,:]\n",
        "\n",
        "def batch_input3(x,n):\n",
        "  # x = [1, 24, 128, 1]\n",
        "  z = x\n",
        "  np.random.shuffle(z)\n",
        "  return z[0:100,0:24,:,:]\n",
        "\n",
        "b = 1"
      ],
      "execution_count": 0,
      "outputs": []
    },
    {
      "cell_type": "code",
      "metadata": {
        "id": "BeGBfv4lUojx",
        "colab_type": "code",
        "colab": {}
      },
      "source": [
        "midis_arraytest.shape  "
      ],
      "execution_count": 0,
      "outputs": []
    },
    {
      "cell_type": "code",
      "metadata": {
        "id": "scUXJiIsDFzI",
        "colab_type": "code",
        "colab": {}
      },
      "source": [
        "(label-y_).shape"
      ],
      "execution_count": 0,
      "outputs": []
    },
    {
      "cell_type": "code",
      "metadata": {
        "id": "0FEs2Mu3ZYaE",
        "colab_type": "code",
        "colab": {}
      },
      "source": [
        "tf.reset_default_graph()\n",
        "x_in = tf.placeholder(dtype=tf.float32, shape=[None, 48, 128, 1], name='X')\n",
        "label = tf.placeholder(dtype=tf.float32, shape=[None, 1])\n",
        "\n",
        "keep_prob = tf.placeholder(dtype=tf.float32, name='keep_prob')\n",
        "is_training = tf.placeholder(dtype=tf.bool, name='is_training')\n",
        "\n",
        "x = tf.layers.conv2d(x_in, kernel_size=(8,5), filters=64, strides=1, padding='same', activation=tf.nn.leaky_relu)\n",
        "#x = tf.layers.dropout(x, keep_prob)\n",
        "x = tf.layers.conv2d(x, kernel_size=(5,32), filters=64, strides=1, padding='same', activation=tf.nn.leaky_relu)\n",
        "x = tf.contrib.layers.flatten(x)\n",
        "x = tf.layers.dense(x, units=256, activation=tf.nn.leaky_relu)\n",
        "x = tf.layers.dense(x, units=32, activation=tf.nn.leaky_relu)\n",
        "y_ = tf.layers.dense(x, units=1, activation=tf.nn.sigmoid)\n",
        "\n",
        "\n",
        "vars1 = [var for var in tf.trainable_variables()]\n",
        "\n",
        "reg = tf.contrib.layers.apply_regularization(tf.contrib.layers.l2_regularizer(0.01), vars1)\n",
        "\n",
        "\n",
        "loss =tf.reduce_mean(binary_cross_entropy(label,y_))\n",
        "acc = tf.reduce_mean(tf.abs(tf.round(label-y_)))\n",
        "update_ops = tf.get_collection(tf.GraphKeys.UPDATE_OPS)\n",
        "optimizer = tf.train.RMSPropOptimizer(learning_rate=0.001).minimize(loss+reg, var_list=vars1)\n",
        "    #optimizer_g = tf.train.RMSPropOptimizer(learning_rate=0.00015).minimize(loss_g + g_reg, var_list=vars_g)\n",
        "saver = tf.train.Saver()   \n",
        "sess = tf.Session()\n",
        "sess.run(tf.global_variables_initializer())"
      ],
      "execution_count": 0,
      "outputs": []
    },
    {
      "cell_type": "code",
      "metadata": {
        "id": "MWjOQMPB15Xo",
        "colab_type": "code",
        "colab": {}
      },
      "source": [
        "\n",
        "saver.restore(sess, '/content/drive/My Drive/Music/Weight/test/BachvsPop425.ckpt')"
      ],
      "execution_count": 0,
      "outputs": []
    },
    {
      "cell_type": "code",
      "metadata": {
        "id": "ngD1Gy7u-fRu",
        "colab_type": "code",
        "colab": {}
      },
      "source": [
        "saver.restore(sess, '/content/drive/My Drive/Music/Weight/test/BachvsChopin111.ckpt')"
      ],
      "execution_count": 0,
      "outputs": []
    },
    {
      "cell_type": "code",
      "metadata": {
        "id": "FTUnNP625IXH",
        "colab_type": "code",
        "outputId": "e2d7ad6e-451f-4fd6-9dcb-8f30773ede9f",
        "colab": {
          "base_uri": "https://localhost:8080/",
          "height": 32
        }
      },
      "source": [
        "gen_img.shape"
      ],
      "execution_count": 0,
      "outputs": [
        {
          "output_type": "execute_result",
          "data": {
            "text/plain": [
              "(100, 48, 128, 1)"
            ]
          },
          "metadata": {
            "tags": []
          },
          "execution_count": 259
        }
      ]
    },
    {
      "cell_type": "code",
      "metadata": {
        "id": "W45tc5k42Pqv",
        "colab_type": "code",
        "colab": {}
      },
      "source": [
        "#gen_img = sess.run(g, feed_dict = {noise: np.random.uniform(0.0, 1.0, [1, n_noise]).astype(np.float32),  label: image, keep_prob: 1.0, is_training:False})\n",
        "a = np.ones(100).reshape(100,1)\n",
        "acc = sess.run([acc], feed_dict={label:a, x_in: gen_img[0:100,:,:,:], is_training:False})\n"
      ],
      "execution_count": 0,
      "outputs": []
    },
    {
      "cell_type": "code",
      "metadata": {
        "id": "3hwyFTQUMzn-",
        "colab_type": "code",
        "colab": {}
      },
      "source": [
        "train = []\n",
        "test = []\n",
        "acc1 = []\n",
        "acc2 = []\n",
        "a = np.ones(100).reshape(100,1)\n",
        "b = np.zeros(100).reshape(100,1)\n",
        "\n",
        "\n",
        "batch1 = batch_input(midis_array[0:2000,:,:,:] ,2000)\n",
        "batch2 = batch_input(midis_arraytest[0:2000,:,:,:],2000)\n",
        "\n",
        "\n",
        "batch3 =midis_array[2000:2500,:,:,:] \n",
        "batch4 = midis_arraytest[2000:2500,:,:,:]\n",
        "c= np.ones(500).reshape(500,1)\n",
        "d= np.zeros(500).reshape(500,1)"
      ],
      "execution_count": 0,
      "outputs": []
    },
    {
      "cell_type": "code",
      "metadata": {
        "id": "OxJoae5V5_WJ",
        "colab_type": "code",
        "outputId": "88ac1653-977b-4b4b-86d6-bcc9eb02682f",
        "colab": {
          "base_uri": "https://localhost:8080/",
          "height": 32
        }
      },
      "source": [
        "np.concatenate((a, b), axis = 0).shape"
      ],
      "execution_count": 0,
      "outputs": [
        {
          "output_type": "execute_result",
          "data": {
            "text/plain": [
              "(200, 1)"
            ]
          },
          "metadata": {
            "tags": []
          },
          "execution_count": 780
        }
      ]
    },
    {
      "cell_type": "code",
      "metadata": {
        "id": "zep_m4071n_q",
        "colab_type": "code",
        "outputId": "4118d4ff-ba8b-403f-f15d-3984cce7d7bb",
        "colab": {
          "base_uri": "https://localhost:8080/",
          "height": 301
        }
      },
      "source": [
        "\n",
        "for i in range(5):\n",
        "    \n",
        "    for j in range(20):\n",
        "      j = j*100\n",
        "      train_ls, acctrain= sess.run([loss, acc], feed_dict={label: np.concatenate((a, b), axis = 0), x_in: np.concatenate((batch1[j:j+100,:,:,:], batch2[j:j+100,:,:,:]), axis = 0)})\n",
        "      sess.run(optimizer, feed_dict={label: np.concatenate((a, b), axis = 0), x_in: np.concatenate((batch1[j:j+100,:,:,:], batch2[j:j+100,:,:,:]), axis = 0)})\n",
        "\n",
        "    \n",
        "    test_ls, acctest = sess.run([loss, acc], feed_dict = {label: np.concatenate((c, d), axis = 0), x_in: np.concatenate((batch3, batch4), axis = 0), is_training:False})\n",
        "    \n",
        "    train.append(train_ls)\n",
        "    test.append(test_ls)\n",
        "    acc1.append(acctrain)\n",
        "    acc2.append(acctest)\n",
        "    \n",
        "    print(train_ls, acctrain )  \n",
        "    print(test_ls, acctest )   \n",
        "        \n"
      ],
      "execution_count": 0,
      "outputs": [
        {
          "output_type": "stream",
          "text": [
            "0.079399526 0.01\n",
            "0.28376234 0.124\n",
            "0.11330719 0.055\n",
            "0.8436552 0.337\n",
            "0.12879115 0.06\n",
            "0.28566012 0.107\n",
            "0.06286223 0.015\n",
            "0.33599755 0.162\n",
            "0.07625281 0.025\n",
            "0.22630869 0.078\n"
          ],
          "name": "stdout"
        }
      ]
    },
    {
      "cell_type": "code",
      "metadata": {
        "id": "uP5dGZy9QIxm",
        "colab_type": "code",
        "colab": {}
      },
      "source": [
        "batch3 =midis_array[3500:4000,:,:,:] \n",
        "batch4 = midis_arraytest[3500:4000,:,:,:]\n",
        "c= np.ones(500).reshape(500,1)\n",
        "d= np.zeros(500).reshape(500,1)"
      ],
      "execution_count": 0,
      "outputs": []
    },
    {
      "cell_type": "code",
      "metadata": {
        "id": "86eQwa42QGsf",
        "colab_type": "code",
        "colab": {}
      },
      "source": [
        "test_ls, acctest = sess.run([loss, acc], feed_dict = {label: np.concatenate((c, d), axis = 0), x_in: np.concatenate((batch3, batch4), axis = 0), is_training:False})"
      ],
      "execution_count": 0,
      "outputs": []
    },
    {
      "cell_type": "code",
      "metadata": {
        "id": "LtbiCnNSQStA",
        "colab_type": "code",
        "outputId": "367b0074-977d-4b04-cedf-74b75f83f23f",
        "colab": {
          "base_uri": "https://localhost:8080/",
          "height": 96
        }
      },
      "source": [
        "acctest"
      ],
      "execution_count": 0,
      "outputs": [
        {
          "output_type": "execute_result",
          "data": {
            "text/plain": [
              "0.129"
            ]
          },
          "metadata": {
            "tags": []
          },
          "execution_count": 118
        }
      ]
    },
    {
      "cell_type": "code",
      "metadata": {
        "id": "70h0Ca1yOcX-",
        "colab_type": "code",
        "outputId": "f947a15b-a7d5-498f-e7a8-d92758dec50b",
        "colab": {
          "base_uri": "https://localhost:8080/",
          "height": 208
        }
      },
      "source": [
        "batch1 = batch_input(midis_array ,50)\n",
        "batch2 = batch_input(midis_arraytest ,50)\n",
        "    \n",
        "ls= sess.run([loss], feed_dict = {label:np.zeros(50).reshape(50,1) , x_in: batch_input(midis_arraytest ,50), is_training:False})\n",
        "print(ls)"
      ],
      "execution_count": 0,
      "outputs": [
        {
          "output_type": "stream",
          "text": [
            "[0.0058128033]\n"
          ],
          "name": "stdout"
        }
      ]
    },
    {
      "cell_type": "code",
      "metadata": {
        "id": "_mdP0oigMt0u",
        "colab_type": "code",
        "outputId": "8acc1bcf-8268-4713-ad8a-aeb4043371ec",
        "colab": {
          "base_uri": "https://localhost:8080/",
          "height": 442
        }
      },
      "source": [
        "\n",
        "\n",
        "implot = plt.plot(np.asarray(acc1))\n",
        "implot = plt.plot(np.asarray(acc2))\n",
        "plt.show()"
      ],
      "execution_count": 0,
      "outputs": [
        {
          "output_type": "display_data",
          "data": {
            "image/png": "[encoded data removed]",
            "text/plain": [
              "<Figure size 432x288 with 1 Axes>"
            ]
          },
          "metadata": {
            "tags": [],
            "image/png": {
              "width": 373,
              "height": 250
            }
          }
        }
      ]
    },
    {
      "cell_type": "code",
      "metadata": {
        "id": "jkYfvY4hhoxo",
        "colab_type": "code",
        "outputId": "30b8fb40-2688-44e1-8eee-ea4503c372b7",
        "colab": {
          "base_uri": "https://localhost:8080/",
          "height": 127
        }
      },
      "source": [
        "saver.save(sess, '/content/drive/My Drive/Music/Weight/test/BachvsPop425.ckpt')"
      ],
      "execution_count": 0,
      "outputs": [
        {
          "output_type": "execute_result",
          "data": {
            "text/plain": [
              "'/content/drive/My Drive/Music/Weight/test/BachvsPop425.ckpt'"
            ]
          },
          "metadata": {
            "tags": []
          },
          "execution_count": 218
        }
      ]
    },
    {
      "cell_type": "markdown",
      "metadata": {
        "id": "43xlGxYcUEG8",
        "colab_type": "text"
      },
      "source": [
        "#t-SNE (2D and 3D trials)"
      ]
    },
    {
      "cell_type": "code",
      "metadata": {
        "id": "atA0vxDTfVOy",
        "colab_type": "code",
        "colab": {}
      },
      "source": [
        "\"/content/drive/My Drive/Music/*.mid\"\n",
        "\"/content/drive/My Drive/Music/ChopinMusic/*.mid\"\n",
        "\"/content/drive/My Drive/MusicBachViolin/*.mid\"\n",
        "\"/content/drive/My Drive/musicBach/new/*.mid\"\n"
      ],
      "execution_count": 0,
      "outputs": []
    },
    {
      "cell_type": "code",
      "metadata": {
        "id": "IZhxJuRkfJJd",
        "colab_type": "code",
        "outputId": "4e74c14a-d6dd-4432-b965-47d884b674e9",
        "colab": {
          "base_uri": "https://localhost:8080/",
          "height": 1000
        }
      },
      "source": [
        "a = 48\n",
        "data=[]\n",
        "b = 1\n",
        "\n",
        "for i, file in enumerate(glob.glob(\"/content/drive/My Drive/musicBach/new/*.mid\")):\n",
        "      print(i,file)\n",
        "      data_temp = midi_to_matrix(file)\n",
        "      b += 1\n",
        "      for j in range(int(np.floor(data_temp[0,:].shape[0]-a))):\n",
        "          if not j%8:          \n",
        "            #if np.sum(data_temp[:,j:(j+a)]==0.5)-np.sum(data_temp[:,j:(j+a)]==1) <=30:\n",
        "             # if np.sum(data_temp[:,j:(j+a)]==1)>=20:\n",
        "                 data.append(data_temp[:,j:(j+a)])"
      ],
      "execution_count": 0,
      "outputs": [
        {
          "output_type": "stream",
          "text": [
            "0 /content/drive/My Drive/musicBach/new/pre_c2.mid\n",
            "1 /content/drive/My Drive/musicBach/new/min_gm.mid\n",
            "2 /content/drive/My Drive/musicBach/new/pol_gm.mid\n",
            "3 /content/drive/My Drive/musicBach/new/pol_gm2.mid\n",
            "4 /content/drive/My Drive/musicBach/new/mus_g.mid\n",
            "5 /content/drive/My Drive/musicBach/new/min_gm2.mid\n",
            "6 /content/drive/My Drive/musicBach/new/min_e.mid\n",
            "7 /content/drive/My Drive/musicBach/new/min_g.mid\n",
            "8 /content/drive/My Drive/musicBach/new/min_g1.mid\n",
            "9 /content/drive/My Drive/musicBach/new/pre_c.mid\n",
            "10 /content/drive/My Drive/musicBach/new/min_dm.mid\n",
            "11 /content/drive/My Drive/musicBach/new/min_bb.mid\n",
            "12 /content/drive/My Drive/musicBach/new/mch_d.mid\n",
            "13 /content/drive/My Drive/musicBach/new/bjses1gy.mid\n",
            "14 /content/drive/My Drive/musicBach/new/bach-prelude-in-cm-piano.mid\n",
            "15 /content/drive/My Drive/musicBach/new/bach1.mid\n",
            "16 /content/drive/My Drive/musicBach/new/invention2part-no13.mid\n",
            "17 /content/drive/My Drive/musicBach/new/bach-bourree-in-e-minor-piano.mid\n",
            "18 /content/drive/My Drive/musicBach/new/book2-prelude12.mid\n",
            "19 /content/drive/My Drive/musicBach/new/invention2part-no4.mid\n",
            "20 /content/drive/My Drive/musicBach/new/book1-fugue24.mid\n",
            "21 /content/drive/My Drive/musicBach/new/book2-fugue02.mid\n",
            "22 /content/drive/My Drive/musicBach/new/book1-fugue24-string-quartet.mid\n",
            "23 /content/drive/My Drive/musicBach/new/book2-prelude02.mid\n",
            "24 /content/drive/My Drive/musicBach/new/book1-prelude24.mid\n",
            "25 /content/drive/My Drive/musicBach/new/book1-prelude14.mid\n",
            "26 /content/drive/My Drive/musicBach/new/book1-fugue14.mid\n",
            "27 /content/drive/My Drive/musicBach/new/book1-fugue10.mid\n",
            "28 /content/drive/My Drive/musicBach/new/book1-prelude06.mid\n",
            "29 /content/drive/My Drive/musicBach/new/book1-fugue02.mid\n",
            "30 /content/drive/My Drive/musicBach/new/pre_dm2.mid\n",
            "31 /content/drive/My Drive/musicBach/new/book1-prelude03.mid\n",
            "32 /content/drive/My Drive/musicBach/new/pre_dm.mid\n",
            "33 /content/drive/My Drive/musicBach/new/book1-prelude01.mid\n",
            "34 /content/drive/My Drive/musicBach/new/pre_f (1).mid\n",
            "35 /content/drive/My Drive/musicBach/new/pre_gm.mid\n",
            "36 /content/drive/My Drive/musicBach/new/book1-prelude02.mid\n",
            "37 /content/drive/My Drive/musicBach/new/Christ_lag_in_Todesbanden.mid\n",
            "38 /content/drive/My Drive/musicBach/new/pre_cm.mid\n",
            "39 /content/drive/My Drive/musicBach/new/pre_c3.mid\n",
            "40 /content/drive/My Drive/musicBach/new/pre12.mid\n",
            "41 /content/drive/My Drive/musicBach/new/pre09.mid\n",
            "42 /content/drive/My Drive/musicBach/new/pre07.mid\n",
            "43 /content/drive/My Drive/musicBach/new/pre06.mid\n",
            "44 /content/drive/My Drive/musicBach/new/pre08.mid\n",
            "45 /content/drive/My Drive/musicBach/new/pre10.mid\n",
            "46 /content/drive/My Drive/musicBach/new/pre11.mid\n",
            "47 /content/drive/My Drive/musicBach/new/pre03.mid\n",
            "48 /content/drive/My Drive/musicBach/new/pre05.mid\n",
            "49 /content/drive/My Drive/musicBach/new/pre04.mid\n",
            "50 /content/drive/My Drive/musicBach/new/pre02.mid\n",
            "51 /content/drive/My Drive/musicBach/new/pre16.mid\n",
            "52 /content/drive/My Drive/musicBach/new/pre18.mid\n",
            "53 /content/drive/My Drive/musicBach/new/prelude2.mid\n",
            "54 /content/drive/My Drive/musicBach/new/pre14.mid\n",
            "55 /content/drive/My Drive/musicBach/new/pre23.mid\n",
            "56 /content/drive/My Drive/musicBach/new/pre22.mid\n",
            "57 /content/drive/My Drive/musicBach/new/pre20.mid\n",
            "58 /content/drive/My Drive/musicBach/new/pre19.mid\n",
            "59 /content/drive/My Drive/musicBach/new/pre17.mid\n",
            "60 /content/drive/My Drive/musicBach/new/pre21.mid\n",
            "61 /content/drive/My Drive/musicBach/new/pre09b.mid\n",
            "62 /content/drive/My Drive/musicBach/new/pre07b.mid\n",
            "63 /content/drive/My Drive/musicBach/new/pre11b.mid\n",
            "64 /content/drive/My Drive/musicBach/new/pre08b.mid\n",
            "65 /content/drive/My Drive/musicBach/new/pre04b.mid\n",
            "66 /content/drive/My Drive/musicBach/new/pre01b.mid\n",
            "67 /content/drive/My Drive/musicBach/new/pre06b.mid\n",
            "68 /content/drive/My Drive/musicBach/new/can29.mid\n",
            "69 /content/drive/My Drive/musicBach/new/pre03b.mid\n"
          ],
          "name": "stdout"
        }
      ]
    },
    {
      "cell_type": "code",
      "metadata": {
        "id": "bEUJxntWfNAp",
        "colab_type": "code",
        "outputId": "026579f7-2ddd-46c4-e2d1-6bf46b3d28da",
        "colab": {
          "base_uri": "https://localhost:8080/",
          "height": 32
        }
      },
      "source": [
        "midis_array = np.asarray(data)\n",
        "    \n",
        "midis_array = np.transpose(midis_array, (0, 2, 1)) \n",
        "midis_array = np.asarray(midis_array)\n",
        "midis_array.shape "
      ],
      "execution_count": 0,
      "outputs": [
        {
          "output_type": "execute_result",
          "data": {
            "text/plain": [
              "(5417, 48, 128)"
            ]
          },
          "metadata": {
            "tags": []
          },
          "execution_count": 26
        }
      ]
    },
    {
      "cell_type": "code",
      "metadata": {
        "id": "ish5ygEpcouj",
        "colab_type": "code",
        "colab": {}
      },
      "source": [
        "def batch_input(x,n):\n",
        "  # x = [None, 48, 128, 1]\n",
        "  z = x\n",
        "  np.random.shuffle(z)\n",
        "  return z[0:n,:,:,:]"
      ],
      "execution_count": 0,
      "outputs": []
    },
    {
      "cell_type": "code",
      "metadata": {
        "id": "TbOL7Xp5Y2_T",
        "colab_type": "code",
        "outputId": "5b1824d9-a8e4-479d-cdf9-54dfeedf7b97",
        "colab": {
          "base_uri": "https://localhost:8080/",
          "height": 32
        }
      },
      "source": [
        "#piano\n",
        "Data1 = midis_array.reshape(-1,48,128,1)\n",
        "Data1.shape"
      ],
      "execution_count": 0,
      "outputs": [
        {
          "output_type": "execute_result",
          "data": {
            "text/plain": [
              "(5417, 48, 128, 1)"
            ]
          },
          "metadata": {
            "tags": []
          },
          "execution_count": 27
        }
      ]
    },
    {
      "cell_type": "code",
      "metadata": {
        "id": "rQeqmFkEZA5J",
        "colab_type": "code",
        "outputId": "d5c0ba3f-41d2-4b4a-c828-5bd61eec339f",
        "colab": {
          "base_uri": "https://localhost:8080/",
          "height": 32
        }
      },
      "source": [
        "#Violin\n",
        "Data2 = midis_array.reshape(-1,48,128,1)\n",
        "Data2.shape"
      ],
      "execution_count": 0,
      "outputs": [
        {
          "output_type": "execute_result",
          "data": {
            "text/plain": [
              "(3058, 48, 128, 1)"
            ]
          },
          "metadata": {
            "tags": []
          },
          "execution_count": 23
        }
      ]
    },
    {
      "cell_type": "code",
      "metadata": {
        "id": "a3VZwPChZ1KB",
        "colab_type": "code",
        "outputId": "1b8e5ba9-de66-49d6-dc60-635b64c42da5",
        "colab": {
          "base_uri": "https://localhost:8080/",
          "height": 32
        }
      },
      "source": [
        "#Chopin\n",
        "Data3 = midis_array.reshape(-1,48,128,1)\n",
        "Data3.shape"
      ],
      "execution_count": 0,
      "outputs": [
        {
          "output_type": "execute_result",
          "data": {
            "text/plain": [
              "(4392, 48, 128, 1)"
            ]
          },
          "metadata": {
            "tags": []
          },
          "execution_count": 20
        }
      ]
    },
    {
      "cell_type": "code",
      "metadata": {
        "id": "BiZcnbxLcHme",
        "colab_type": "code",
        "outputId": "f91fdb0f-657e-4d64-f355-48af75c7058c",
        "colab": {
          "base_uri": "https://localhost:8080/",
          "height": 32
        }
      },
      "source": [
        "#some\n",
        "Data4 = midis_array.reshape(-1,48,128,1)\n",
        "Data4.shape"
      ],
      "execution_count": 0,
      "outputs": [
        {
          "output_type": "execute_result",
          "data": {
            "text/plain": [
              "(4341, 48, 128, 1)"
            ]
          },
          "metadata": {
            "tags": []
          },
          "execution_count": 15
        }
      ]
    },
    {
      "cell_type": "code",
      "metadata": {
        "id": "82sntDopOM7A",
        "colab_type": "code",
        "outputId": "d693f84a-7104-4d9d-bdba-7fe4e5448f7d",
        "colab": {
          "base_uri": "https://localhost:8080/",
          "height": 32
        }
      },
      "source": [
        "Data5 =np.asarray(Data5).reshape(500,48,128,1)\n",
        "Data5.shape"
      ],
      "execution_count": 0,
      "outputs": [
        {
          "output_type": "execute_result",
          "data": {
            "text/plain": [
              "(500, 48, 128, 1)"
            ]
          },
          "metadata": {
            "tags": []
          },
          "execution_count": 321
        }
      ]
    },
    {
      "cell_type": "code",
      "metadata": {
        "id": "xs8wzCktQ0lB",
        "colab_type": "code",
        "outputId": "b1d12f20-bc92-4355-e7bf-f0e75fb63fa6",
        "colab": {
          "base_uri": "https://localhost:8080/",
          "height": 32
        }
      },
      "source": [
        "\n",
        "Data6 =gen_img[0:500,:,:,:]\n",
        "Data6.shape"
      ],
      "execution_count": 0,
      "outputs": [
        {
          "output_type": "execute_result",
          "data": {
            "text/plain": [
              "(500, 48, 128, 1)"
            ]
          },
          "metadata": {
            "tags": []
          },
          "execution_count": 304
        }
      ]
    },
    {
      "cell_type": "code",
      "metadata": {
        "id": "_vXkvhj8WCYG",
        "colab_type": "code",
        "outputId": "dfab0cf9-c7b8-4f14-ff9e-60a586176acf",
        "colab": {
          "base_uri": "https://localhost:8080/",
          "height": 32
        }
      },
      "source": [
        "D7  = np.concatenate((D7,D8),axis = 0)\n",
        "D7.shape"
      ],
      "execution_count": 0,
      "outputs": [
        {
          "output_type": "execute_result",
          "data": {
            "text/plain": [
              "(176, 48, 128, 1)"
            ]
          },
          "metadata": {
            "tags": []
          },
          "execution_count": 345
        }
      ]
    },
    {
      "cell_type": "code",
      "metadata": {
        "id": "687OS3K4ezjV",
        "colab_type": "code",
        "colab": {}
      },
      "source": [
        "x=100"
      ],
      "execution_count": 0,
      "outputs": []
    },
    {
      "cell_type": "code",
      "metadata": {
        "id": "HIdGzTDHcwtQ",
        "colab_type": "code",
        "outputId": "28e2f60a-6695-40fe-8eb1-36c8fa23f7a5",
        "colab": {
          "base_uri": "https://localhost:8080/",
          "height": 32
        }
      },
      "source": [
        "C1 = np.concatenate((batch_input(Data1,x), batch_input(Data2,x)),axis = 0)\n",
        "C2 = np.concatenate((batch_input(Data3,x), batch_input(Data4,x)),axis = 0)\n",
        "C4 = np.concatenate((C1,C2),axis = 0)\n",
        "#C4 = np.concatenate((C1,C2,batch_input(Data5,x), batch_input(Data6,x),D7),axis = 0)\n",
        "C4.shape"
      ],
      "execution_count": 0,
      "outputs": [
        {
          "output_type": "execute_result",
          "data": {
            "text/plain": [
              "(400, 48, 128, 1)"
            ]
          },
          "metadata": {
            "tags": []
          },
          "execution_count": 70
        }
      ]
    },
    {
      "cell_type": "code",
      "metadata": {
        "id": "wDw-Cvg3dSi-",
        "colab_type": "code",
        "outputId": "fade763a-c658-46a3-d7b3-b2730c2c4427",
        "colab": {
          "base_uri": "https://localhost:8080/",
          "height": 32
        }
      },
      "source": [
        "C1 = np.concatenate((np.ones(x), 2*np.ones(x)),axis = 0)\n",
        "C2 = np.concatenate((3*np.ones(x), 4*np.ones(x)),axis = 0)\n",
        "C5 = np.concatenate((C1,C2),axis = 0)\n",
        "#C5 = np.concatenate((C1,C2, 5*np.ones(200), 6*np.ones(200), 7*np.ones(176)),axis = 0)\n",
        "C5.shape\n"
      ],
      "execution_count": 0,
      "outputs": [
        {
          "output_type": "execute_result",
          "data": {
            "text/plain": [
              "(400,)"
            ]
          },
          "metadata": {
            "tags": []
          },
          "execution_count": 71
        }
      ]
    },
    {
      "cell_type": "code",
      "metadata": {
        "id": "Dx8CqShXdYHw",
        "colab_type": "code",
        "colab": {}
      },
      "source": [
        "C4 = C4.reshape(-1,128*48)"
      ],
      "execution_count": 0,
      "outputs": []
    },
    {
      "cell_type": "code",
      "metadata": {
        "id": "c20ev1pRUDIY",
        "colab_type": "code",
        "colab": {}
      },
      "source": [
        "# coding='utf-8'\n",
        "\"\"\"t-SNE对手写数字进行可视化\"\"\"\n",
        "from time import time\n",
        "import numpy as np\n",
        "import matplotlib.pyplot as plt\n",
        "\n",
        "from sklearn import datasets\n",
        "from sklearn.manifold import TSNE\n",
        "\n",
        "\n",
        "def get_data():\n",
        "    digits = datasets.load_digits(n_class=6)\n",
        "    data = digits.data\n",
        "    label = digits.target\n",
        "    return data, label\n",
        "\n",
        "def plot_embedding(data, label, title):\n",
        "    x_min, x_max = np.min(data, 0), np.max(data, 0)\n",
        "    data = (data - x_min) / (x_max - x_min)\n",
        "\n",
        "    fig = plt.figure()\n",
        "    ax = plt.subplot(111)\n",
        "    for i in range(data.shape[0]):\n",
        "        plt.text(data[i, 0], data[i, 1], '.',\n",
        "                 color=plt.cm.Set1(label[i] / 10.),\n",
        "                 fontdict={'weight': 'bold', 'size': 20})\n",
        "    plt.xticks([])\n",
        "    plt.yticks([])\n",
        "    plt.title(title)\n",
        "    return fig"
      ],
      "execution_count": 0,
      "outputs": []
    },
    {
      "cell_type": "code",
      "metadata": {
        "id": "Wk_9SqfU6tdn",
        "colab_type": "code",
        "colab": {}
      },
      "source": [
        "from mpl_toolkits.mplot3d import Axes3D\n",
        "\n",
        "\n",
        "def plot_embedding(data, label, title):\n",
        "    x_min, x_max = np.min(data, 0), np.max(data, 0)\n",
        "    data = (data - x_min) / (x_max - x_min)\n",
        "\n",
        "    fig = plt.figure()\n",
        "    ax = plt.subplot(111,projection='3d')\n",
        "    for i in range(data.shape[0]):\n",
        "        ax.scatter(data[i, 0], data[i, 1], data[i, 2],'.',\n",
        "                 color=plt.cm.Set1(label[i] / 10.))\n",
        "    plt.title(title)\n",
        "    return fig"
      ],
      "execution_count": 0,
      "outputs": []
    },
    {
      "cell_type": "code",
      "metadata": {
        "id": "mUkpP3ign0jm",
        "colab_type": "code",
        "outputId": "885cc744-17a1-4fce-b743-9c829cb5060a",
        "colab": {
          "base_uri": "https://localhost:8080/",
          "height": 32
        }
      },
      "source": [
        "result.shape"
      ],
      "execution_count": 0,
      "outputs": [
        {
          "output_type": "execute_result",
          "data": {
            "text/plain": [
              "(1600, 3)"
            ]
          },
          "metadata": {
            "tags": []
          },
          "execution_count": 75
        }
      ]
    },
    {
      "cell_type": "code",
      "metadata": {
        "id": "E_m5yuJvUOwJ",
        "colab_type": "code",
        "outputId": "248bdd66-4e27-4a64-b69c-ef7044c2adfa",
        "colab": {
          "base_uri": "https://localhost:8080/",
          "height": 263
        }
      },
      "source": [
        "\n",
        "print('Computing t-SNE embedding')\n",
        "tsne = TSNE(n_components=3, init='pca', random_state=0, n_iter=1000, early_exaggeration=12.0, perplexity=4)\n",
        "t0 = time()\n",
        "result = tsne.fit_transform(C4)\n",
        "fig = plot_embedding(result, C5,\n",
        "                     't-SNE embedding of the digits (time %.2fs)'\n",
        "                     % (time() - t0))\n",
        "\n",
        "plt.show(fig)"
      ],
      "execution_count": 0,
      "outputs": [
        {
          "output_type": "stream",
          "text": [
            "Computing t-SNE embedding\n"
          ],
          "name": "stdout"
        },
        {
          "output_type": "display_data",
          "data": {
            "image/png": "[encoded data removed]",
            "text/plain": [
              "<Figure size 432x288 with 1 Axes>"
            ]
          },
          "metadata": {
            "tags": [],
            "image/png": {
              "width": 349,
              "height": 231
            }
          }
        }
      ]
    },
    {
      "cell_type": "code",
      "metadata": {
        "id": "kryT4viwrXWV",
        "colab_type": "code",
        "outputId": "8defb305-2280-4520-d6d0-2a7e36c9368c",
        "colab": {
          "base_uri": "https://localhost:8080/",
          "height": 32
        }
      },
      "source": [
        "result[5]"
      ],
      "execution_count": 0,
      "outputs": [
        {
          "output_type": "execute_result",
          "data": {
            "text/plain": [
              "array([ 0.47724858, -2.692271  ], dtype=float32)"
            ]
          },
          "metadata": {
            "tags": []
          },
          "execution_count": 46
        }
      ]
    },
    {
      "cell_type": "code",
      "metadata": {
        "id": "yLZFcFkl44v9",
        "colab_type": "code",
        "colab": {}
      },
      "source": [
        "a = 0\n",
        "b = 0.5\n",
        "c = 0.1\n",
        "d = 1.1"
      ],
      "execution_count": 0,
      "outputs": []
    },
    {
      "cell_type": "code",
      "metadata": {
        "id": "SWGCVLfZ4gcs",
        "colab_type": "code",
        "outputId": "0b99d22f-769f-4726-b83e-a07988b45ac3",
        "colab": {
          "base_uri": "https://localhost:8080/",
          "height": 247
        }
      },
      "source": [
        " fig = plot_embedding(result, C5,\n",
        "                     't-SNE embedding of the digits (time %.2fs)'\n",
        "                     % (time() - t0))\n",
        "plt.xlim(a,b)\n",
        "plt.ylim(c,d,1)\n",
        "plt.xticks(np.linspace(a, b, 5))\n",
        "plt.yticks(np.linspace(c, d, 5))\n",
        "\n",
        "plt.show(fig)"
      ],
      "execution_count": 0,
      "outputs": [
        {
          "output_type": "display_data",
          "data": {
            "image/png": "[encoded data removed]",
            "text/plain": [
              "<Figure size 432x288 with 1 Axes>"
            ]
          },
          "metadata": {
            "tags": [],
            "image/png": {
              "width": 349,
              "height": 231
            }
          }
        }
      ]
    },
    {
      "cell_type": "code",
      "metadata": {
        "id": "IcBBzaiJUjEw",
        "colab_type": "code",
        "outputId": "730a32a9-29ca-4ea3-e148-bfdb5f00a18e",
        "colab": {
          "base_uri": "https://localhost:8080/",
          "height": 32
        }
      },
      "source": [
        "result[0]"
      ],
      "execution_count": 0,
      "outputs": [
        {
          "output_type": "execute_result",
          "data": {
            "text/plain": [
              "array([-2.433539 , -2.6290343], dtype=float32)"
            ]
          },
          "metadata": {
            "tags": []
          },
          "execution_count": 228
        }
      ]
    },
    {
      "cell_type": "code",
      "metadata": {
        "id": "bwcJacaRUkzj",
        "colab_type": "code",
        "outputId": "a27353a3-cbdc-4b14-e96b-eb068ece865a",
        "colab": {
          "base_uri": "https://localhost:8080/",
          "height": 32
        }
      },
      "source": [
        "label.shape"
      ],
      "execution_count": 0,
      "outputs": [
        {
          "output_type": "execute_result",
          "data": {
            "text/plain": [
              "(1083,)"
            ]
          },
          "metadata": {
            "tags": []
          },
          "execution_count": 5
        }
      ]
    },
    {
      "cell_type": "code",
      "metadata": {
        "id": "_KmXii3cUpVi",
        "colab_type": "code",
        "colab": {}
      },
      "source": [
        "a = 45\n",
        "data=[]\n",
        "\n",
        "for i, file in enumerate(glob.glob(\"/content/drive/My Drive/MusicBachViolin/*.mid\")):\n",
        "  data_temp = midi_to_matrix(file)\n",
        "  for j in range(int(np.floor(data_temp[0,:].shape[0]/a))):\n",
        "    data.append(data_temp[:,j:(j+a)])\n",
        "  #data.append(data_temp)\n",
        "    \n",
        "midis_array = np.asarray(data)\n",
        "    \n",
        "midis_array = np.transpose(midis_array, (0, 2, 1)) \n",
        "midis_array = np.asarray(midis_array)\n",
        "midis_array.shape \n",
        "\n",
        "\n",
        "midis_array = np.reshape(midis_array,(-1,128))\n",
        "midis_array.shape\n",
        "\n",
        "max_len = 15 # how many column will take account to predict next column.\n",
        "step = 1 # step size.\n",
        "\n",
        "previous_full = []\n",
        "predicted_full = []\n",
        "\n",
        "for i in range (0, midis_array.shape[0]-max_len, step):\n",
        "    prev = midis_array[i:i+max_len,...] # take max_len column.\n",
        "    pred = midis_array[i+max_len,...] # take (max_len)th column.\n",
        "    previous_full.append(prev)\n",
        "    predicted_full.append(pred)\n",
        "    \n",
        "    "
      ],
      "execution_count": 0,
      "outputs": []
    },
    {
      "cell_type": "code",
      "metadata": {
        "id": "q-yrVdk2S3yl",
        "colab_type": "code",
        "colab": {}
      },
      "source": [
        "previous_full = np.asarray(previous_full).astype('float64')\n",
        "predicted_full = np.asarray (predicted_full).astype('float64')"
      ],
      "execution_count": 0,
      "outputs": []
    },
    {
      "cell_type": "code",
      "metadata": {
        "id": "mRhZnt0-S60M",
        "colab_type": "code",
        "outputId": "e9de3751-2414-4fef-f610-eed38199b1a5",
        "colab": {
          "base_uri": "https://localhost:8080/",
          "height": 49
        }
      },
      "source": [
        "num_of_sample, max_len, freq = previous_full.shape\n",
        "\n",
        "print (previous_full.shape)\n",
        "print (predicted_full.shape)"
      ],
      "execution_count": 0,
      "outputs": [
        {
          "output_type": "stream",
          "text": [
            "(24870, 15, 128)\n",
            "(24870, 128)\n"
          ],
          "name": "stdout"
        }
      ]
    },
    {
      "cell_type": "code",
      "metadata": {
        "id": "z2IHQFsLS99Q",
        "colab_type": "code",
        "outputId": "398726b5-1ed6-4c2f-a4ae-6bbad29cd9d8",
        "colab": {
          "base_uri": "https://localhost:8080/",
          "height": 250
        }
      },
      "source": [
        "from keras import layers\n",
        "from keras import models\n",
        "import keras\n",
        "from keras.models import Model\n",
        "import tensorflow as tf\n",
        "from keras.layers.advanced_activations import *\n",
        "\n",
        "\n",
        "midi_shape = (max_len, 128)\n",
        "\n",
        "# 这部分返回一个张量\n",
        "input_midi = keras.Input(midi_shape)\n",
        "\n",
        "# 层的实例是可调用的，它以张量为参数，并且返回一个张量\n",
        "#x = layers.Bidirectional(layers.LSTM(512, return_sequences=True, unit_forget_bias=True))(input_midi)\n",
        "x = layers.Bidirectional(layers.LSTM(512, return_sequences=True, unit_forget_bias=True))(input_midi)\n",
        "#1024是输出维度，input_midi是输入值\n",
        "x = layers.LeakyReLU()(x)\n",
        "x = layers.BatchNormalization() (x)\n",
        "#x = layers.Dropout(0.3)(x)\n",
        "\n",
        "x = layers.LSTM(128, unit_forget_bias=True)(x)\n",
        "x = layers.LeakyReLU()(x)\n",
        "x = layers.BatchNormalization()(x)\n",
        "\n",
        "\n",
        "x = layers.Dense(128, activation='softmax')(x) \n",
        "\n",
        "model = Model(input_midi, x)\n",
        "# optimizer = keras.optimizers.Adam(lr=0.01, beta_1=0.9, beta_2=0.999, epsilon=1e-8, decay=0.0, amsgrad=False)\n",
        "# optimizer = keras.optimizers.Nadam(lr=0.01, beta_1=0.9, beta_2=0.999, epsilon=1e-8, schedule_decay=0.004)\n",
        "optimizer = keras.optimizers.SGD(lr=0.007)\n",
        "model.compile(loss='categorical_crossentropy', optimizer=optimizer)"
      ],
      "execution_count": 0,
      "outputs": [
        {
          "output_type": "stream",
          "text": [
            "Using TensorFlow backend.\n",
            "W0905 08:34:55.714381 140304395253632 deprecation_wrapper.py:119] From /usr/local/lib/python3.6/dist-packages/keras/backend/tensorflow_backend.py:66: The name tf.get_default_graph is deprecated. Please use tf.compat.v1.get_default_graph instead.\n",
            "\n",
            "W0905 08:34:55.717943 140304395253632 deprecation_wrapper.py:119] From /usr/local/lib/python3.6/dist-packages/keras/backend/tensorflow_backend.py:541: The name tf.placeholder is deprecated. Please use tf.compat.v1.placeholder instead.\n",
            "\n",
            "W0905 08:34:55.728028 140304395253632 deprecation_wrapper.py:119] From /usr/local/lib/python3.6/dist-packages/keras/backend/tensorflow_backend.py:4432: The name tf.random_uniform is deprecated. Please use tf.random.uniform instead.\n",
            "\n",
            "W0905 08:34:57.891033 140304395253632 deprecation_wrapper.py:119] From /usr/local/lib/python3.6/dist-packages/keras/backend/tensorflow_backend.py:148: The name tf.placeholder_with_default is deprecated. Please use tf.compat.v1.placeholder_with_default instead.\n",
            "\n",
            "W0905 08:34:58.278125 140304395253632 deprecation_wrapper.py:119] From /usr/local/lib/python3.6/dist-packages/keras/optimizers.py:793: The name tf.train.Optimizer is deprecated. Please use tf.compat.v1.train.Optimizer instead.\n",
            "\n",
            "W0905 08:34:58.290286 140304395253632 deprecation_wrapper.py:119] From /usr/local/lib/python3.6/dist-packages/keras/backend/tensorflow_backend.py:3576: The name tf.log is deprecated. Please use tf.math.log instead.\n",
            "\n"
          ],
          "name": "stderr"
        }
      ]
    },
    {
      "cell_type": "code",
      "metadata": {
        "id": "jl27_DpJTBP7",
        "colab_type": "code",
        "colab": {}
      },
      "source": [
        "model.load_weights('/content/drive/My Drive/model3.h5')"
      ],
      "execution_count": 0,
      "outputs": []
    },
    {
      "cell_type": "code",
      "metadata": {
        "id": "BGiLhGlpUCku",
        "colab_type": "code",
        "colab": {}
      },
      "source": [
        "\n",
        "import matplotlib.pyplot as plt\n",
        "\n",
        "import random\n",
        "import sys\n",
        "\n",
        "epoch_total = 10000\n",
        "batch_size = 10\n",
        "\n",
        "for epoch in range(0, 20): # Train model with epoch_total \n",
        "    print('Epoch:', epoch)\n",
        "    \n",
        "    #model.load_weights('my_model_weights.h5') # load model's weights.\n",
        "    model.fit(previous_full, predicted_full, batch_size=batch_size, epochs=1,\n",
        "              shuffle=True) # Fit model for 1 iteration.\n",
        "    \n",
        "   # start_index = random.randint(0, len(midis_array)- max_len - 1)\n",
        "    \n",
        "    #generated_midi = midis_array[start_index: start_index + max_len]\n",
        "    #model.save_weights('my_model_weights.h5')\n",
        "    model.save(\"my_model.h5\")\n",
        "    \n",
        "    start_index = random.randint(0, len(midis_array)- max_len - 1)\n",
        "    midi_list = []\n",
        "    for i in range(30):\n",
        "        samples = midis_array[start_index+i: start_index+i+max_len]\n",
        "        expanded_samples = np.expand_dims(samples, axis=0)\n",
        "        preds = model.predict(expanded_samples, verbose=0)[0]\n",
        "        preds = np.asarray(preds).astype('float64')\n",
        "        midi_list.append(preds)    \n",
        "    implot = plt.imshow(np.array(midi_list), cmap=\"gray\")\n",
        "    plt.show()    \n",
        "        "
      ],
      "execution_count": 0,
      "outputs": []
    },
    {
      "cell_type": "code",
      "metadata": {
        "id": "b96xuMyMU_-j",
        "colab_type": "code",
        "colab": {}
      },
      "source": [
        "midi_fulllist.shape"
      ],
      "execution_count": 0,
      "outputs": []
    },
    {
      "cell_type": "code",
      "metadata": {
        "id": "4baK6SMxUUIM",
        "colab_type": "code",
        "colab": {}
      },
      "source": [
        "midi_fulllist = []\n",
        "for j in range(500):  \n",
        "  start_index = random.randint(0, len(midis_array)- max_len - 1)\n",
        "  midi_list = []\n",
        "  for i in range(48):\n",
        "      samples = midis_array[start_index+i: start_index+i+max_len]\n",
        "      expanded_samples = np.expand_dims(samples, axis=0)\n",
        "      preds = model.predict(expanded_samples, verbose=0)[0]\n",
        "      preds = np.asarray(preds).astype('float64')\n",
        "      midi_list.append(preds)    \n",
        "  midi_fulllist.append(np.array(midi_list))"
      ],
      "execution_count": 0,
      "outputs": []
    },
    {
      "cell_type": "code",
      "metadata": {
        "id": "sFcIvpJSTEZ6",
        "colab_type": "code",
        "colab": {}
      },
      "source": [
        "start_index = random.randint(0, len(midis_array)- max_len - 1)\n",
        "samples = midis_array[start_index+i: start_index+i+max_len]\n",
        "midi_list = []\n",
        "for i in range(64):\n",
        "    expanded_samples = np.expand_dims(samples, axis=0)\n",
        "    preds = model.predict(expanded_samples, verbose=0)[0]\n",
        "    preds = np.asarray(preds).astype('float64')\n",
        "    samples = np.vstack([samples, preds])\n",
        "    samples = np.round(samples[1:16,:]*2)/2\n",
        "    midi_list.append(preds)\n",
        "a3 = np.vstack([ midis_array[start_index+i: start_index+i+max_len], np.array(midi_list)])\n",
        "\n",
        "#implot = plt.imshow(a, cmap=\"gray\")\n",
        "#plt.show()   \n"
      ],
      "execution_count": 0,
      "outputs": []
    },
    {
      "cell_type": "code",
      "metadata": {
        "id": "kr_N5fHVp16D",
        "colab_type": "code",
        "outputId": "08c69fb6-2165-45dd-b097-b6a8dbb48a1a",
        "colab": {
          "base_uri": "https://localhost:8080/",
          "height": 278
        }
      },
      "source": [
        "f, axarr = plt.subplots(2,2)\n",
        "axarr[0,0].imshow(a, cmap=\"gray\")\n",
        "axarr[0,1].imshow(a1, cmap=\"gray\")\n",
        "axarr[1,0].imshow(a2, cmap=\"gray\")\n",
        "axarr[1,1].imshow(a3, cmap=\"gray\")\n",
        "\n"
      ],
      "execution_count": 0,
      "outputs": [
        {
          "output_type": "execute_result",
          "data": {
            "text/plain": [
              "<matplotlib.image.AxesImage at 0x7f9a69875b00>"
            ]
          },
          "metadata": {
            "tags": []
          },
          "execution_count": 940
        },
        {
          "output_type": "display_data",
          "data": {
            "image/png": "[encoded data removed]",
            "text/plain": [
              "<Figure size 432x288 with 4 Axes>"
            ]
          },
          "metadata": {
            "tags": [],
            "image/png": {
              "width": 370,
              "height": 246
            }
          }
        }
      ]
    },
    {
      "cell_type": "code",
      "metadata": {
        "id": "hB-UhzmikmsG",
        "colab_type": "code",
        "outputId": "b22acc88-7f83-4d1d-cec2-98eeae15cc13",
        "colab": {
          "base_uri": "https://localhost:8080/",
          "height": 32
        }
      },
      "source": [
        "a.shape"
      ],
      "execution_count": 0,
      "outputs": [
        {
          "output_type": "execute_result",
          "data": {
            "text/plain": [
              "(79, 128)"
            ]
          },
          "metadata": {
            "tags": []
          },
          "execution_count": 887
        }
      ]
    },
    {
      "cell_type": "code",
      "metadata": {
        "id": "lumtKQ3JkcOP",
        "colab_type": "code",
        "colab": {}
      },
      "source": [
        "from google.colab import files\n",
        "from midiutil.MidiFile import MIDIFile\n",
        "\n",
        "matrix = a\n",
        "# create your MIDI object\n",
        "mf = MIDIFile(1)     # only 1 track\n",
        "track = 0   # the only track\n",
        "\n",
        "time = 0    # start at the beginning\n",
        "mf.addTrackName(track, time, \"Sample Track\")\n",
        "mf.addTempo(track, time, 120)\n",
        "\n",
        "# add some notes\n",
        "channel = 0\n",
        "volume = 100\n",
        "'''\n",
        "pitch = 60           # C4 (middle C)\n",
        "time = 0             # start on beat 0\n",
        "duration = 1         # 1 beat long\n",
        "mf.addNote(track, channel, pitch, time, duration, volume)\n",
        "\n",
        "pitch = 64           # E4\n",
        "time = 2             # start on beat 2\n",
        "duration = 1         # 1 beat long\n",
        "mf.addNote(track, channel, pitch, time, duration, volume)\n",
        "\n",
        "pitch = 67           # G4\n",
        "time = 4             # start on beat 4\n",
        "duration = 1         # 1 beat long\n",
        "mf.addNote(track, channel, pitch, time, duration, volume)\n",
        "'''\n",
        "for pitch in range(0,128):\n",
        "  time = 0\n",
        "  while time < 79:\n",
        "    duration = 1\n",
        "    if matrix[time, pitch]>=0.7:\n",
        "      if time <78:\n",
        "        while (matrix[time+duration, pitch]>=0.25)*(matrix[time+duration, pitch]<0.7)*(time+duration < 78):\n",
        "            duration  = duration+1            \n",
        "      mf.addNote(track, channel, pitch, time, duration, volume)\n",
        "    if (matrix[time, pitch]>= 0.25)*(matrix[time-1, pitch]<0.25):  \n",
        "      if time <78:\n",
        "        while (matrix[time+duration, pitch]>=0.25)*(matrix[time+duration, pitch]<0.7)*(time+duration < 78):\n",
        "            duration  = duration+1            \n",
        "      mf.addNote(track, channel, pitch, time, duration, volume)      \n",
        "    \n",
        "    time +=1\n",
        "    \n",
        "\n",
        "\n",
        "# write it to disk\n",
        "with open(\"output4.mid\", 'wb') as outf:\n",
        "    mf.writeFile(outf)  \n",
        "    \n",
        "for file in os.listdir(os.getcwd()):\n",
        "    if file.endswith(\"output4.mid\"):\n",
        "      files.download(file)    "
      ],
      "execution_count": 0,
      "outputs": []
    },
    {
      "cell_type": "code",
      "metadata": {
        "id": "bwpKffd0kwb3",
        "colab_type": "code",
        "colab": {}
      },
      "source": [
        ""
      ],
      "execution_count": 0,
      "outputs": []
    }
  ]
}