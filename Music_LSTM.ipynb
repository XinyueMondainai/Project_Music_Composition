{
  "nbformat": 4,
  "nbformat_minor": 0,
  "metadata": {
    "colab": {
      "name": "Music_LSTM.ipynb",
      "version": "0.3.2",
      "provenance": []
    },
    "kernelspec": {
      "name": "python3",
      "display_name": "Python 3"
    }
  },
  "cells": [
    {
      "cell_type": "code",
      "metadata": {
        "id": "wPQw7osbyrlY",
        "colab_type": "code",
        "colab": {}
      },
      "source": [
        "import glob\n",
        "import os\n",
        "import music21\n",
        "import numpy as np\n",
        "from music21 import converter, instrument, note, chord, duration, stream\n",
        "import tensorflow as tf\n",
        "\n",
        "print (music21.__version__) #if your version is lower than 4.x.x, you will encounter with some issues. "
      ],
      "execution_count": 0,
      "outputs": []
    },
    {
      "cell_type": "code",
      "metadata": {
        "id": "3TVciBB5yt0C",
        "colab_type": "code",
        "colab": {}
      },
      "source": [
        "# See figures inside jupyter notebook.\n",
        "%matplotlib inline \n",
        "\n",
        "%config InlineBackend.figure_format = 'retina' # for Mac"
      ],
      "execution_count": 0,
      "outputs": []
    },
    {
      "cell_type": "code",
      "metadata": {
        "id": "qVz3Q-dwyvJ2",
        "colab_type": "code",
        "colab": {}
      },
      "source": [
        "def note_to_int(note): # converts the note's letter to pitch value which is integer form.\n",
        "    # source: https://musescore.org/en/plugin-development/note-pitch-values\n",
        "    # idea: https://github.com/bspaans/python-mingus/blob/master/mingus/core/notes.py\n",
        "    \n",
        "    note_base_name = ['C', 'C#', 'D', 'D#', 'E', 'F', 'F#', 'G', 'G#', 'A', 'A#', 'B']\n",
        "    if ('#-' in note):\n",
        "        first_letter = note[0]\n",
        "        base_value = note_base_name.index(first_letter)\n",
        "        octave = note[3]\n",
        "        value = base_value + 12*(int(octave)-(-1))\n",
        "        \n",
        "    elif ('#' in note): \n",
        "        first_letter = note[0]\n",
        "        base_value = note_base_name.index(first_letter)\n",
        "        octave = note[2]\n",
        "        value = base_value + 12*(int(octave)-(-1))\n",
        "        \n",
        "    elif ('-' in note): \n",
        "        first_letter = note[0]\n",
        "        base_value = note_base_name.index(first_letter)\n",
        "        octave = note[2]\n",
        "        value = base_value + 12*(int(octave)-(-1))\n",
        "        \n",
        "    else:\n",
        "        first_letter = note[0]\n",
        "        base_val = note_base_name.index(first_letter)\n",
        "        octave = note[1]\n",
        "        value = base_val + 12*(int(octave)-(-1))\n",
        "        \n",
        "    return value"
      ],
      "execution_count": 0,
      "outputs": []
    },
    {
      "cell_type": "code",
      "metadata": {
        "id": "ZA_v_GCryw5b",
        "colab_type": "code",
        "colab": {}
      },
      "source": [
        "# Lets determine our matrix's value \n",
        "# rest --> (min_value, lower_bound)\n",
        "# continuation --> (lower_bound, upper_bound)\n",
        "# first_touch --> (upper_bound, max_value)\n",
        "\n",
        "min_value = 0.00\n",
        "lower_first = 0.00\n",
        "\n",
        "lower_second = 0.5\n",
        "upper_first = 0.5\n",
        "\n",
        "upper_second = 1.0\n",
        "max_value = 1.0\n",
        "\n",
        "def notes_to_matrix(notes, durations, offsets, min_value=min_value, lower_first=lower_first,\n",
        "                    lower_second=lower_second,\n",
        "                    upper_first=upper_first, upper_second=upper_second,\n",
        "                    max_value=max_value):\n",
        "    \n",
        "    # I want to represent my notes in matrix form. X axis will represent time, Y axis will represent pitch values.\n",
        "    # I should normalize my matrix between 0 and 1.\n",
        "    # So that I will represent rest with (min_value, lower_first), continuation with [lower_second, upper_first]\n",
        "    # and first touch with (upper_second, max_value)\n",
        "    # First touch means that you press the note and it cause to 1 time duration playing. Continuation\n",
        "    # represent the continuum of this note playing. \n",
        "    \n",
        "    try:\n",
        "        last_offset = int(offsets[-1]) \n",
        "    except IndexError:\n",
        "        print ('Index Error')\n",
        "        return (None, None, None)\n",
        "    \n",
        "    total_offset_axis = last_offset * 4 + (8 * 4) \n",
        "    our_matrix = np.random.uniform(min_value, lower_first, (128, int(total_offset_axis))) \n",
        "    # creates matrix and fills with (-1, -0.3), this values will represent the rest.\n",
        "    \n",
        "    for (note, duration, offset) in zip(notes, durations, offsets):\n",
        "        how_many = int(float(duration)/0.25) # indicates time duration for single note.\n",
        "       \n",
        "        \n",
        "        # Define difference between single and double note.\n",
        "        # I have choose the value for first touch, the another value for continuation.\n",
        "        # Lets make it randomize\n",
        "        \n",
        "        # I choose to use uniform distrubition. Maybe, you can use another distrubition like Gaussian.\n",
        "        # I will try \n",
        "        first_touch = np.random.uniform(upper_second, max_value, 1)\n",
        "        continuation = np.random.uniform(lower_second, upper_first, 1)\n",
        "        \n",
        "        if ('.' not in str(note)): # It is not chord. Single note.\n",
        "            our_matrix[note, int(offset * 4)] = first_touch\n",
        "            our_matrix[note, int((offset * 4) + 1) : int((offset * 4) + how_many)] = continuation\n",
        "\n",
        "        else: # For chord\n",
        "            chord_notes_str = [note for note in note.split('.')] \n",
        "            chord_notes_float = list(map(int, chord_notes_str)) # Take notes in chord one by one\n",
        "\n",
        "            for chord_note_float in chord_notes_float:\n",
        "                our_matrix[chord_note_float, int(offset * 4)] = first_touch\n",
        "                our_matrix[chord_note_float, int((offset * 4) + 1) : int((offset * 4) + how_many)] = continuation\n",
        "                \n",
        "    return our_matrix\n",
        "\n",
        "def check_float(duration): # This function fix the issue which comes from some note's duration. \n",
        "                           # For instance some note has duration like 14/3 or 7/3. \n",
        "    if ('/' in duration):\n",
        "        numerator = float(duration.split('/')[0])\n",
        "        denominator = float(duration.split('/')[1])\n",
        "        duration = str(float(numerator/denominator))\n",
        "    return duration"
      ],
      "execution_count": 0,
      "outputs": []
    },
    {
      "cell_type": "code",
      "metadata": {
        "id": "RrbUyQIHy0RG",
        "colab_type": "code",
        "colab": {}
      },
      "source": [
        "def midi_to_matrix(filename): # convert midi file to matrix for DL architecture.\n",
        "  \n",
        "    midi = music21.converter.parse(filename)\n",
        "    notes_to_parse = None\n",
        "    parts = music21.instrument.partitionByInstrument(midi)\n",
        "    notes_to_parse = parts.parts[0].recurse()\n",
        "\n",
        "    durations = []\n",
        "    notes = []\n",
        "    offsets = []\n",
        "    \n",
        "    for element in notes_to_parse:\n",
        "        if isinstance(element, note.Note): # if it is single note\n",
        "            notes.append(note_to_int(str(element.pitch)))\n",
        "            duration = str(element.duration)[27:-1]\n",
        "            durations.append(check_float(duration))\n",
        "            offsets.append(element.offset)\n",
        "\n",
        "        elif isinstance(element, chord.Chord): # if it is chord\n",
        "            notes.append('.'.join(str(note_to_int(str(n)))\n",
        "                                  for n in element.pitches))\n",
        "            duration = str(element.duration)[27:-1]\n",
        "            durations.append(check_float(duration))\n",
        "            offsets.append(element.offset)\n",
        "\n",
        "    \n",
        "    \n",
        "    our_matrix = notes_to_matrix(notes, durations, offsets)\n",
        "    \n",
        "    return our_matrix\n",
        "    '''\n",
        "    try:\n",
        "        freq, time = our_matrix.shape\n",
        "    except AttributeError:\n",
        "        print (\"'tuple' object has no attribute 'shape'\")\n",
        "        return None\n",
        "            \n",
        "    if (time >= length):\n",
        "        return (our_matrix[:,:length]) # We have to set all individual note matrix to same shape for Generative DL.\n",
        "    else:\n",
        "        print ('%s have not enough duration' %(filename))\n",
        "        '''"
      ],
      "execution_count": 0,
      "outputs": []
    },
    {
      "cell_type": "code",
      "metadata": {
        "id": "sS00CA6Ty3SO",
        "colab_type": "code",
        "colab": {}
      },
      "source": [
        "glob.glob(\"/content/drive/My Drive/Music/LSTM/*.h5\")"
      ],
      "execution_count": 0,
      "outputs": []
    },
    {
      "cell_type": "code",
      "metadata": {
        "id": "wrC69oVby5Je",
        "colab_type": "code",
        "colab": {}
      },
      "source": [
        "# Load the Drive helper and mount\n",
        "from google.colab import drive\n",
        "\n",
        "# This will prompt for authorization.\n",
        "drive.mount('/content/drive')\n",
        "\n",
        "glob.glob(\"/content/drive/My Drive/MusicBachViolin/*.mid\")"
      ],
      "execution_count": 0,
      "outputs": []
    },
    {
      "cell_type": "code",
      "metadata": {
        "id": "vzscEgfFy64P",
        "colab_type": "code",
        "colab": {}
      },
      "source": [
        "a = 45\n",
        "data=[]\n",
        "\n",
        "for i, file in enumerate(glob.glob(\"/content/drive/My Drive/MusicBachViolin/*.mid\")):\n",
        "  data_temp = midi_to_matrix(file)\n",
        "  for j in range(int(np.floor(data_temp[0,:].shape[0]/a))):\n",
        "    data.append(data_temp[:,j:(j+a)])\n",
        "  #data.append(data_temp)\n",
        "    \n",
        "midis_array = np.asarray(data)\n",
        "    \n",
        "midis_array = np.transpose(midis_array, (0, 2, 1)) \n",
        "midis_array = np.asarray(midis_array)\n",
        "midis_array.shape   "
      ],
      "execution_count": 0,
      "outputs": []
    },
    {
      "cell_type": "code",
      "metadata": {
        "id": "gmknuW1my_mT",
        "colab_type": "code",
        "colab": {}
      },
      "source": [
        "\n",
        "midis_array = np.reshape(midis_array,(-1,128))\n",
        "midis_array.shape"
      ],
      "execution_count": 0,
      "outputs": []
    },
    {
      "cell_type": "code",
      "metadata": {
        "id": "8pNWekx6zCH3",
        "colab_type": "code",
        "colab": {}
      },
      "source": [
        "max_len = 15 # how many column will take account to predict next column.\n",
        "step = 1 # step size.\n",
        "\n",
        "previous_full = []\n",
        "predicted_full = []\n",
        "\n",
        "for i in range (0, midis_array.shape[0]-max_len, step):\n",
        "    prev = midis_array[i:i+max_len,...] # take max_len column.\n",
        "    pred = midis_array[i+max_len,...] # take (max_len)th column.\n",
        "    previous_full.append(prev)\n",
        "    predicted_full.append(pred)"
      ],
      "execution_count": 0,
      "outputs": []
    },
    {
      "cell_type": "code",
      "metadata": {
        "id": "2cU6tBDvzDuG",
        "colab_type": "code",
        "colab": {}
      },
      "source": [
        "previous_full = np.asarray(previous_full).astype('float64')\n",
        "predicted_full = np.asarray (predicted_full).astype('float64')"
      ],
      "execution_count": 0,
      "outputs": []
    },
    {
      "cell_type": "code",
      "metadata": {
        "id": "HKL0_TKGzFZv",
        "colab_type": "code",
        "colab": {}
      },
      "source": [
        "num_of_sample, max_len, freq = previous_full.shape\n",
        "\n",
        "print (previous_full.shape)\n",
        "print (predicted_full.shape)"
      ],
      "execution_count": 0,
      "outputs": []
    },
    {
      "cell_type": "code",
      "metadata": {
        "id": "1v_BnqEVzH_5",
        "colab_type": "code",
        "colab": {}
      },
      "source": [
        "from keras import layers\n",
        "from keras import models\n",
        "import keras\n",
        "from keras.models import Model\n",
        "import tensorflow as tf\n",
        "from keras.layers.advanced_activations import *\n",
        "\n",
        "\n",
        "midi_shape = (max_len, 128)\n",
        "\n",
        "# 这部分返回一个张量\n",
        "input_midi = keras.Input(midi_shape)\n",
        "\n",
        "# 层的实例是可调用的，它以张量为参数，并且返回一个张量\n",
        "#x = layers.LSTM(512, return_sequences=True, unit_forget_bias=True)(input_midi)\n",
        "x = layers.Bidirectional(layers.LSTM(512, return_sequences=True, unit_forget_bias=True))(input_midi)\n",
        "#1024是输出维度，input_midi是输入值\n",
        "x = layers.LeakyReLU()(x)\n",
        "x = layers.BatchNormalization() (x)\n",
        "#x = layers.Dropout(0.3)(x)\n",
        "\n",
        "x = layers.LSTM(128, unit_forget_bias=True)(x)\n",
        "x = layers.LeakyReLU()(x)\n",
        "x = layers.BatchNormalization()(x)\n",
        "\n",
        "\n",
        "x = layers.Dense(128, activation='softmax')(x) \n",
        "\n",
        "model = Model(input_midi, x)\n",
        "# optimizer = keras.optimizers.Adam(lr=0.01, beta_1=0.9, beta_2=0.999, epsilon=1e-8, decay=0.0, amsgrad=False)\n",
        "# optimizer = keras.optimizers.Nadam(lr=0.01, beta_1=0.9, beta_2=0.999, epsilon=1e-8, schedule_decay=0.004)\n",
        "optimizer = keras.optimizers.SGD(lr=0.007)\n",
        "model.compile(loss='categorical_crossentropy', optimizer=optimizer)"
      ],
      "execution_count": 0,
      "outputs": []
    },
    {
      "cell_type": "code",
      "metadata": {
        "id": "FsJruuUNzKFi",
        "colab_type": "code",
        "colab": {}
      },
      "source": [
        "model.load_weights('/content/drive/My Drive/model3.h5')"
      ],
      "execution_count": 0,
      "outputs": []
    },
    {
      "cell_type": "code",
      "metadata": {
        "id": "dRAUaZHOzL6I",
        "colab_type": "code",
        "colab": {}
      },
      "source": [
        "midi_fulllist = []\n",
        "for j in range(1):  \n",
        "  start_index = random.randint(0, len(midis_array)- max_len - 1)\n",
        "  midi_list = []\n",
        "  for i in range(48):\n",
        "      samples = midis_array[start_index+i: start_index+i+max_len]\n",
        "      expanded_samples = np.expand_dims(samples, axis=0)\n",
        "      preds = model.predict(expanded_samples, verbose=0)[0]\n",
        "      preds = np.asarray(preds).astype('float64')\n",
        "      midi_list.append(preds)    \n",
        "  midi_fulllist.append(np.array(midi_list))"
      ],
      "execution_count": 0,
      "outputs": []
    },
    {
      "cell_type": "code",
      "metadata": {
        "id": "ZDEzy4AkzOOG",
        "colab_type": "code",
        "colab": {}
      },
      "source": [
        "\n",
        "import matplotlib.pyplot as plt\n",
        "\n",
        "import random\n",
        "import sys\n",
        "\n",
        "epoch_total = 10000\n",
        "batch_size = 10\n",
        "\n",
        "for epoch in range(0, 20): # Train model with epoch_total \n",
        "    print('Epoch:', epoch)\n",
        "    \n",
        "    #model.load_weights('my_model_weights.h5') # load model's weights.\n",
        "    model.fit(previous_full, predicted_full, batch_size=batch_size, epochs=1,\n",
        "              shuffle=True) # Fit model for 1 iteration.\n",
        "    \n",
        "   # start_index = random.randint(0, len(midis_array)- max_len - 1)\n",
        "    \n",
        "    #generated_midi = midis_array[start_index: start_index + max_len]\n",
        "    #model.save_weights('my_model_weights.h5')\n",
        "    model.save(\"my_model.h5\")\n",
        "    \n",
        "    start_index = random.randint(0, len(midis_array)- max_len - 1)\n",
        "    midi_list = []\n",
        "    for i in range(30):\n",
        "        samples = midis_array[start_index+i: start_index+i+max_len]\n",
        "        expanded_samples = np.expand_dims(samples, axis=0)\n",
        "        preds = model.predict(expanded_samples, verbose=0)[0]\n",
        "        preds = np.asarray(preds).astype('float64')\n",
        "        midi_list.append(preds)    \n",
        "    implot = plt.imshow(np.array(midi_list), cmap=\"gray\")\n",
        "    plt.show()    \n",
        "        "
      ],
      "execution_count": 0,
      "outputs": []
    },
    {
      "cell_type": "code",
      "metadata": {
        "id": "doKz2WO3zTZ8",
        "colab_type": "code",
        "colab": {}
      },
      "source": [
        "!pip install -U -q PyDrive\n",
        "from pydrive.auth import GoogleAuth\n",
        "from pydrive.drive import GoogleDrive\n",
        "from google.colab import auth\n",
        "from oauth2client.client import GoogleCredentials\n",
        "\n",
        "# 1. Authenticate and create the PyDrive client.\n",
        "auth.authenticate_user()\n",
        "gauth = GoogleAuth()\n",
        "gauth.credentials = GoogleCredentials.get_application_default()\n",
        "drive = GoogleDrive(gauth)\n",
        "\n",
        "# 2. Save Keras Model or weights on google drive\n",
        "\n",
        "# create on Colab directory\n",
        "model.save('model8.h5')    \n",
        "model_file = drive.CreateFile({'title' : 'model8.h5'})\n",
        "model_file.SetContentFile('model8.h5')\n",
        "model_file.Upload()\n",
        "\n",
        "# download to google drive\n",
        "drive.CreateFile({'id': model_file.get('id')})"
      ],
      "execution_count": 0,
      "outputs": []
    },
    {
      "cell_type": "code",
      "metadata": {
        "id": "b55Pz8iszVGA",
        "colab_type": "code",
        "colab": {}
      },
      "source": [
        "model.save_weights('model_weights7.h5')\n",
        "weights_file = drive.CreateFile({'title' : 'model_weights7.h5'})\n",
        "weights_file.SetContentFile('model_weights7.h5')\n",
        "weights_file.Upload()\n",
        "drive.CreateFile({'id': weights_file.get('id')})"
      ],
      "execution_count": 0,
      "outputs": []
    },
    {
      "cell_type": "code",
      "metadata": {
        "id": "GvcHp4ExzW-b",
        "colab_type": "code",
        "colab": {}
      },
      "source": [
        "# 3. reload weights from google drive into the model\n",
        "\n",
        "# use (get shareable link) to get file id\n",
        "last_weight_file = drive.CreateFile({'id': '1lVqs5_TLmPN5xPKg6Mgyw9ft_tEcAd51'}) \n",
        "last_weight_file.GetContentFile('last_weights.mat')\n",
        "model.load_weights('last_weights.mat')"
      ],
      "execution_count": 0,
      "outputs": []
    },
    {
      "cell_type": "code",
      "metadata": {
        "id": "CDUm9q-TzY4s",
        "colab_type": "code",
        "colab": {}
      },
      "source": [
        "start_index = random.randint(0, len(midis_array)- max_len - 1)\n",
        "samples = midis_array[start_index+i: start_index+i+max_len]\n",
        "midi_list = []\n",
        "for i in range(64):\n",
        "    expanded_samples = np.expand_dims(samples, axis=0)\n",
        "    preds = model.predict(expanded_samples, verbose=0)[0]\n",
        "    preds = np.asarray(preds).astype('float64')\n",
        "    samples = np.vstack([samples, preds])\n",
        "    samples = np.round(samples[1:16,:]*2)/2\n",
        "    midi_list.append(preds)\n",
        "a = np.vstack([ midis_array[start_index+i: start_index+i+max_len], np.array(midi_list)])\n",
        "implot = plt.imshow(a, cmap=\"gray\")\n",
        "plt.show()   "
      ],
      "execution_count": 0,
      "outputs": []
    },
    {
      "cell_type": "code",
      "metadata": {
        "id": "5g4Uob5Nzae8",
        "colab_type": "code",
        "colab": {}
      },
      "source": [
        "pip install midiutil"
      ],
      "execution_count": 0,
      "outputs": []
    },
    {
      "cell_type": "code",
      "metadata": {
        "id": "geCGPJZLzf65",
        "colab_type": "code",
        "colab": {}
      },
      "source": [
        "from google.colab import files\n",
        "from midiutil.MidiFile import MIDIFile\n",
        "\n",
        "matrix = np.asarray(a)\n",
        "# create your MIDI object\n",
        "mf = MIDIFile(1)     # only 1 track\n",
        "track = 0   # the only track\n",
        "\n",
        "time = 0    # start at the beginning\n",
        "mf.addTrackName(track, time, \"Sample Track\")\n",
        "mf.addTempo(track, time, 120)\n",
        "\n",
        "# add some notes\n",
        "channel = 0\n",
        "volume = 100\n",
        "\n",
        "for pitch in range(0,128):\n",
        "  time = 0\n",
        "  while time < 64:\n",
        "    duration = 1\n",
        "    if matrix[time, pitch]>=0.7:\n",
        "      if time <63:\n",
        "        while (matrix[time+duration, pitch]>=0.25)*(matrix[time+duration, pitch]<0.7)*(time+duration < 63):\n",
        "            duration  = duration+1            \n",
        "      mf.addNote(track, channel, pitch, time, duration, volume)\n",
        "    if (matrix[time, pitch]>= 0.4)*(matrix[time-1, pitch]<0.25):  \n",
        "      if time <63:\n",
        "        while (matrix[time+duration, pitch]>=0.25)*(matrix[time+duration, pitch]<0.7)*(time+duration < 63):\n",
        "            duration  = duration+1            \n",
        "      mf.addNote(track, channel, pitch, time, duration, volume)      \n",
        "    \n",
        "    time +=1\n",
        "    \n",
        "\n",
        "\n",
        "# write it to disk\n",
        "with open(\"output4.mid\", 'wb') as outf:\n",
        "    mf.writeFile(outf)  \n",
        "    \n",
        "for file in os.listdir(os.getcwd()):\n",
        "    if file.endswith(\"output4.mid\"):\n",
        "      files.download(file) "
      ],
      "execution_count": 0,
      "outputs": []
    }
  ]
}